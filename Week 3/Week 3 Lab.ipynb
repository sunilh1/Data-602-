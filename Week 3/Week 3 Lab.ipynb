{
 "cells": [
  {
   "cell_type": "markdown",
   "id": "f7427bc4",
   "metadata": {},
   "source": [
    "# Week 3 Lab\n",
    "\n",
    "## Questions:"
   ]
  },
  {
   "cell_type": "markdown",
   "id": "86b6141a",
   "metadata": {},
   "source": [
    "**• Differences between supervised and unsupervised learning?**\n",
    "\n",
    "> `Ans` : In Supervised learning, model learns from labelled data, where as in unsupervised learning, the data is unlabelled."
   ]
  },
  {
   "cell_type": "markdown",
   "id": "95010470",
   "metadata": {},
   "source": [
    "**• Differences between classification and regression?**\n",
    "> `Ans` : In Classification the target variable is `Categorical` and in Regression the target variable is `Continuous`(numeric)."
   ]
  },
  {
   "cell_type": "markdown",
   "id": "c41e1e6f",
   "metadata": {},
   "source": [
    "**• Classification and regression are the only types of supervised learning?**\n",
    "> `Ans` : Yes. Classification and Regression are the only types of supervised learning."
   ]
  }
 ],
 "metadata": {
  "kernelspec": {
   "display_name": "Python 3 (ipykernel)",
   "language": "python",
   "name": "python3"
  },
  "language_info": {
   "codemirror_mode": {
    "name": "ipython",
    "version": 3
   },
   "file_extension": ".py",
   "mimetype": "text/x-python",
   "name": "python",
   "nbconvert_exporter": "python",
   "pygments_lexer": "ipython3",
   "version": "3.9.7"
  }
 },
 "nbformat": 4,
 "nbformat_minor": 5
}
