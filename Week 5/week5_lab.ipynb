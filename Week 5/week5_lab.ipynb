{
 "cells": [
  {
   "cell_type": "markdown",
   "id": "318de7cb",
   "metadata": {
    "id": "318de7cb"
   },
   "source": [
    "# Week5 - Lab\n",
    "\n",
    "* Assign X, y\n",
    "* Train-test split\n",
    "* Visualize & speculate on training dataset\n",
    "* Train a logistic regression model\n",
    "* Evaluate the model, roc score\n",
    "* Explain findings"
   ]
  },
  {
   "cell_type": "code",
   "execution_count": 1,
   "id": "4089dbd4",
   "metadata": {
    "id": "4089dbd4"
   },
   "outputs": [
    {
     "name": "stderr",
     "output_type": "stream",
     "text": [
      "C:\\Users\\Sunil\\anaconda3\\lib\\site-packages\\scipy\\__init__.py:146: UserWarning: A NumPy version >=1.16.5 and <1.23.0 is required for this version of SciPy (detected version 1.23.3\n",
      "  warnings.warn(f\"A NumPy version >={np_minversion} and <{np_maxversion}\"\n"
     ]
    }
   ],
   "source": [
    "import numpy as np\n",
    "import pandas as pd\n",
    "from sklearn.model_selection import train_test_split\n",
    "from sklearn.feature_extraction.text import CountVectorizer\n",
    "from sklearn.metrics import roc_auc_score, accuracy_score, f1_score, precision_score, recall_score\n",
    "from sklearn.decomposition import PCA\n",
    "import seaborn as sns\n",
    "from sklearn.linear_model import LogisticRegression\n",
    "\n",
    "# https://www.kaggle.com/datasets/muhammadtalharasool/simple-gender-classification?select=gender.csv\n",
    "df = pd.read_csv('https://raw.githubusercontent.com/msaricaumbc/DS_data/master/ds602/log_reg/gender.csv').iloc[:,:-1]\n",
    "df.columns = df.columns.str.strip()\n",
    "df.Gender = df.Gender.str.strip()\n",
    "df.Occupation = df.Occupation.str.strip()\n",
    "df['Education Level'] = df['Education Level'].str.strip()\n",
    "df['Marital Status'] = df['Marital Status'].str.strip()\n",
    "df['Favorite Color'] = df['Favorite Color'].str.strip()"
   ]
  },
  {
   "cell_type": "code",
   "execution_count": 2,
   "id": "_eqQu5u5zmGv",
   "metadata": {
    "colab": {
     "base_uri": "https://localhost:8080/",
     "height": 206
    },
    "id": "_eqQu5u5zmGv",
    "outputId": "3e44802a-9633-491e-9526-4a6257431aee"
   },
   "outputs": [
    {
     "data": {
      "text/html": [
       "<div>\n",
       "<style scoped>\n",
       "    .dataframe tbody tr th:only-of-type {\n",
       "        vertical-align: middle;\n",
       "    }\n",
       "\n",
       "    .dataframe tbody tr th {\n",
       "        vertical-align: top;\n",
       "    }\n",
       "\n",
       "    .dataframe thead th {\n",
       "        text-align: right;\n",
       "    }\n",
       "</style>\n",
       "<table border=\"1\" class=\"dataframe\">\n",
       "  <thead>\n",
       "    <tr style=\"text-align: right;\">\n",
       "      <th></th>\n",
       "      <th>Gender</th>\n",
       "      <th>Age</th>\n",
       "      <th>Height (cm)</th>\n",
       "      <th>Weight (kg)</th>\n",
       "      <th>Occupation</th>\n",
       "      <th>Education Level</th>\n",
       "      <th>Marital Status</th>\n",
       "      <th>Income (USD)</th>\n",
       "      <th>Favorite Color</th>\n",
       "    </tr>\n",
       "  </thead>\n",
       "  <tbody>\n",
       "    <tr>\n",
       "      <th>0</th>\n",
       "      <td>male</td>\n",
       "      <td>32</td>\n",
       "      <td>175</td>\n",
       "      <td>70</td>\n",
       "      <td>Software Engineer</td>\n",
       "      <td>Master's Degree</td>\n",
       "      <td>Married</td>\n",
       "      <td>75000</td>\n",
       "      <td>Blue</td>\n",
       "    </tr>\n",
       "    <tr>\n",
       "      <th>1</th>\n",
       "      <td>male</td>\n",
       "      <td>25</td>\n",
       "      <td>182</td>\n",
       "      <td>85</td>\n",
       "      <td>Sales Representative</td>\n",
       "      <td>Bachelor's Degree</td>\n",
       "      <td>Single</td>\n",
       "      <td>45000</td>\n",
       "      <td>Green</td>\n",
       "    </tr>\n",
       "    <tr>\n",
       "      <th>2</th>\n",
       "      <td>female</td>\n",
       "      <td>41</td>\n",
       "      <td>160</td>\n",
       "      <td>62</td>\n",
       "      <td>Doctor</td>\n",
       "      <td>Doctorate Degree</td>\n",
       "      <td>Married</td>\n",
       "      <td>120000</td>\n",
       "      <td>Purple</td>\n",
       "    </tr>\n",
       "    <tr>\n",
       "      <th>3</th>\n",
       "      <td>male</td>\n",
       "      <td>38</td>\n",
       "      <td>178</td>\n",
       "      <td>79</td>\n",
       "      <td>Lawyer</td>\n",
       "      <td>Bachelor's Degree</td>\n",
       "      <td>Single</td>\n",
       "      <td>90000</td>\n",
       "      <td>Red</td>\n",
       "    </tr>\n",
       "    <tr>\n",
       "      <th>4</th>\n",
       "      <td>female</td>\n",
       "      <td>29</td>\n",
       "      <td>165</td>\n",
       "      <td>58</td>\n",
       "      <td>Graphic Designer</td>\n",
       "      <td>Associate's Degree</td>\n",
       "      <td>Single</td>\n",
       "      <td>35000</td>\n",
       "      <td>Yellow</td>\n",
       "    </tr>\n",
       "  </tbody>\n",
       "</table>\n",
       "</div>"
      ],
      "text/plain": [
       "   Gender  Age  Height (cm)  Weight (kg)            Occupation  \\\n",
       "0    male   32          175           70     Software Engineer   \n",
       "1    male   25          182           85  Sales Representative   \n",
       "2  female   41          160           62                Doctor   \n",
       "3    male   38          178           79                Lawyer   \n",
       "4  female   29          165           58      Graphic Designer   \n",
       "\n",
       "      Education Level Marital Status  Income (USD) Favorite Color  \n",
       "0     Master's Degree        Married         75000           Blue  \n",
       "1   Bachelor's Degree         Single         45000          Green  \n",
       "2    Doctorate Degree        Married        120000         Purple  \n",
       "3   Bachelor's Degree         Single         90000            Red  \n",
       "4  Associate's Degree         Single         35000         Yellow  "
      ]
     },
     "execution_count": 2,
     "metadata": {},
     "output_type": "execute_result"
    }
   ],
   "source": [
    "df.head()"
   ]
  },
  {
   "cell_type": "code",
   "execution_count": 3,
   "id": "ErrGiwyn1L8E",
   "metadata": {
    "colab": {
     "base_uri": "https://localhost:8080/"
    },
    "id": "ErrGiwyn1L8E",
    "outputId": "a3e09063-d637-4efa-bf81-b2ae78cce2b6"
   },
   "outputs": [
    {
     "data": {
      "text/plain": [
       "Index(['Gender', 'Age', 'Height (cm)', 'Weight (kg)', 'Occupation',\n",
       "       'Education Level', 'Marital Status', 'Income (USD)', 'Favorite Color'],\n",
       "      dtype='object')"
      ]
     },
     "execution_count": 3,
     "metadata": {},
     "output_type": "execute_result"
    }
   ],
   "source": [
    "df.columns"
   ]
  },
  {
   "cell_type": "code",
   "execution_count": 4,
   "id": "VKKbgVWR4I43",
   "metadata": {
    "colab": {
     "base_uri": "https://localhost:8080/"
    },
    "id": "VKKbgVWR4I43",
    "outputId": "ff34f5a5-1591-4877-dd32-6a2725ff2f69"
   },
   "outputs": [
    {
     "name": "stdout",
     "output_type": "stream",
     "text": [
      "<class 'pandas.core.frame.DataFrame'>\n",
      "RangeIndex: 131 entries, 0 to 130\n",
      "Data columns (total 9 columns):\n",
      " #   Column           Non-Null Count  Dtype \n",
      "---  ------           --------------  ----- \n",
      " 0   Gender           131 non-null    object\n",
      " 1   Age              131 non-null    int64 \n",
      " 2   Height (cm)      131 non-null    int64 \n",
      " 3   Weight (kg)      131 non-null    int64 \n",
      " 4   Occupation       131 non-null    object\n",
      " 5   Education Level  131 non-null    object\n",
      " 6   Marital Status   131 non-null    object\n",
      " 7   Income (USD)     131 non-null    int64 \n",
      " 8   Favorite Color   131 non-null    object\n",
      "dtypes: int64(4), object(5)\n",
      "memory usage: 9.3+ KB\n"
     ]
    }
   ],
   "source": [
    "df.info()"
   ]
  },
  {
   "cell_type": "code",
   "execution_count": 5,
   "id": "AuYGFgxk8pJf",
   "metadata": {
    "id": "AuYGFgxk8pJf"
   },
   "outputs": [],
   "source": [
    "from sklearn.preprocessing import LabelEncoder"
   ]
  },
  {
   "cell_type": "markdown",
   "id": "4f6a638d",
   "metadata": {
    "id": "4f6a638d"
   },
   "source": [
    "# Assign X, y"
   ]
  },
  {
   "cell_type": "code",
   "execution_count": 6,
   "id": "573e54c5",
   "metadata": {},
   "outputs": [],
   "source": [
    "df['Gender'].replace({'male' : 0, 'female' : 1}, inplace = True)"
   ]
  },
  {
   "cell_type": "code",
   "execution_count": 7,
   "id": "8364a8b9",
   "metadata": {
    "id": "8364a8b9"
   },
   "outputs": [],
   "source": [
    "X = df.drop(columns=['Gender','Occupation', 'Education Level', 'Marital Status', 'Favorite Color'], axis = 1)\n",
    "y = df['Gender']"
   ]
  },
  {
   "cell_type": "markdown",
   "id": "79428efd",
   "metadata": {
    "id": "79428efd"
   },
   "source": [
    "# Train-test split"
   ]
  },
  {
   "cell_type": "code",
   "execution_count": 8,
   "id": "221da3a5",
   "metadata": {
    "id": "221da3a5"
   },
   "outputs": [],
   "source": [
    "X_train, X_test, y_train, y_test = train_test_split(X, y, test_size=0.3)"
   ]
  },
  {
   "cell_type": "markdown",
   "id": "a26ee202",
   "metadata": {
    "id": "a26ee202"
   },
   "source": [
    "# Visualize & speculate on training dataset"
   ]
  },
  {
   "cell_type": "code",
   "execution_count": 9,
   "id": "79481ab1",
   "metadata": {
    "colab": {
     "base_uri": "https://localhost:8080/",
     "height": 743
    },
    "id": "79481ab1",
    "outputId": "4f549348-a974-40d1-cd96-df8871bf3f2b"
   },
   "outputs": [
    {
     "data": {
      "text/plain": [
       "<seaborn.axisgrid.PairGrid at 0x1a35e4aa130>"
      ]
     },
     "execution_count": 9,
     "metadata": {},
     "output_type": "execute_result"
    },
    {
     "data": {
      "image/png": "[encoded data removed]",
      "text/plain": [
       "<Figure size 720x720 with 20 Axes>"
      ]
     },
     "metadata": {
      "needs_background": "light"
     },
     "output_type": "display_data"
    }
   ],
   "source": [
    "sns.pairplot(X_train)"
   ]
  },
  {
   "cell_type": "markdown",
   "id": "f0deedfd",
   "metadata": {
    "id": "f0deedfd"
   },
   "source": [
    "# Train a logistic regression model"
   ]
  },
  {
   "cell_type": "code",
   "execution_count": 10,
   "id": "4b7620db",
   "metadata": {
    "colab": {
     "base_uri": "https://localhost:8080/",
     "height": 74
    },
    "id": "4b7620db",
    "outputId": "1929d8ec-e69a-427d-fc5e-d10a2bf98075"
   },
   "outputs": [
    {
     "data": {
      "text/plain": [
       "LogisticRegression(max_iter=5000)"
      ]
     },
     "execution_count": 10,
     "metadata": {},
     "output_type": "execute_result"
    }
   ],
   "source": [
    "lr_model = LogisticRegression(max_iter = 5000)\n",
    "lr_model.fit(X_train, y_train)"
   ]
  },
  {
   "cell_type": "markdown",
   "id": "0951b9af",
   "metadata": {
    "id": "0951b9af"
   },
   "source": [
    "# Evaluate the model, roc score"
   ]
  },
  {
   "cell_type": "code",
   "execution_count": 11,
   "id": "ed7d496e",
   "metadata": {
    "colab": {
     "base_uri": "https://localhost:8080/"
    },
    "id": "ed7d496e",
    "outputId": "27332dc7-0114-4fab-92df-accb54263cd6"
   },
   "outputs": [
    {
     "name": "stdout",
     "output_type": "stream",
     "text": [
      "ROC score is: 1.0\n"
     ]
    }
   ],
   "source": [
    "y_pred_proba = lr_model.predict_proba(X_test)[:,1]\n",
    "roc_score = roc_auc_score(y_test, y_pred_proba)\n",
    "print('ROC score is:', roc_score)\n"
   ]
  },
  {
   "cell_type": "markdown",
   "id": "1a2926e8",
   "metadata": {
    "id": "1a2926e8"
   },
   "source": [
    "# Explain findings"
   ]
  },
  {
   "cell_type": "markdown",
   "id": "i6FVb2qaABUQ",
   "metadata": {
    "id": "i6FVb2qaABUQ"
   },
   "source": [
    "Here we can see that we have got the perfect ROC_AUC_Score score. Which means the model is working perfectly."
   ]
  }
 ],
 "metadata": {
  "colab": {
   "provenance": []
  },
  "kernelspec": {
   "display_name": "Python 3 (ipykernel)",
   "language": "python",
   "name": "python3"
  },
  "language_info": {
   "codemirror_mode": {
    "name": "ipython",
    "version": 3
   },
   "file_extension": ".py",
   "mimetype": "text/x-python",
   "name": "python",
   "nbconvert_exporter": "python",
   "pygments_lexer": "ipython3",
   "version": "3.9.7"
  },
  "toc": {
   "base_numbering": 1,
   "nav_menu": {},
   "number_sections": false,
   "sideBar": true,
   "skip_h1_title": false,
   "title_cell": "Table of Contents",
   "title_sidebar": "Contents",
   "toc_cell": false,
   "toc_position": {},
   "toc_section_display": true,
   "toc_window_display": false
  }
 },
 "nbformat": 4,
 "nbformat_minor": 5
}
