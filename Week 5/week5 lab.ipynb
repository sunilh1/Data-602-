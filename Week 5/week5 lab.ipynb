{
 "cells": [
  {
   "cell_type": "markdown",
   "id": "318de7cb",
   "metadata": {},
   "source": [
    "# Week5 - Lab\n",
    "\n",
    "* Assign X, y\n",
    "* Train-test split\n",
    "* Visualize & speculate on training dataset\n",
    "* Train a logistic regression model\n",
    "* Evaluate the model, roc score\n",
    "* Explain findings"
   ]
  },
  {
   "cell_type": "code",
   "execution_count": 5,
   "id": "4089dbd4",
   "metadata": {},
   "outputs": [],
   "source": [
    "import numpy as np\n",
    "import pandas as pd\n",
    "from sklearn.model_selection import train_test_split\n",
    "from sklearn.feature_extraction.text import CountVectorizer\n",
    "from sklearn.metrics import roc_auc_score, accuracy_score, f1_score, precision_score, recall_score\n",
    "from sklearn.decomposition import PCA\n",
    "import seaborn as sns\n",
    "from sklearn.linear_model import LogisticRegression\n",
    "\n",
    "\n",
    "\n",
    "# https://www.kaggle.com/datasets/muhammadtalharasool/simple-gender-classification?select=gender.csv\n",
    "df = pd.read_csv('https://raw.githubusercontent.com/msaricaumbc/DS_data/master/ds602/log_reg/gender.csv').iloc[:,:-1]\n",
    "df.columns = df.columns.str.strip()\n",
    "df.Gender = df.Gender.str.strip()"
   ]
  },
  {
   "cell_type": "code",
   "execution_count": 2,
   "id": "f7cda82e",
   "metadata": {},
   "outputs": [
    {
     "data": {
      "text/plain": [
       "<AxesSubplot:>"
      ]
     },
     "execution_count": 2,
     "metadata": {},
     "output_type": "execute_result"
    },
    {
     "data": {
      "image/png": "[encoded data removed]",
      "text/plain": [
       "<Figure size 432x288 with 1 Axes>"
      ]
     },
     "metadata": {
      "needs_background": "light"
     },
     "output_type": "display_data"
    }
   ],
   "source": [
    "df.Gender.hist()"
   ]
  },
  {
   "cell_type": "code",
   "execution_count": 3,
   "id": "c6d3b99b",
   "metadata": {},
   "outputs": [
    {
     "data": {
      "text/html": [
       "<div>\n",
       "<style scoped>\n",
       "    .dataframe tbody tr th:only-of-type {\n",
       "        vertical-align: middle;\n",
       "    }\n",
       "\n",
       "    .dataframe tbody tr th {\n",
       "        vertical-align: top;\n",
       "    }\n",
       "\n",
       "    .dataframe thead th {\n",
       "        text-align: right;\n",
       "    }\n",
       "</style>\n",
       "<table border=\"1\" class=\"dataframe\">\n",
       "  <thead>\n",
       "    <tr style=\"text-align: right;\">\n",
       "      <th></th>\n",
       "      <th>Gender</th>\n",
       "      <th>Age</th>\n",
       "      <th>Height (cm)</th>\n",
       "      <th>Weight (kg)</th>\n",
       "      <th>Occupation</th>\n",
       "      <th>Education Level</th>\n",
       "      <th>Marital Status</th>\n",
       "      <th>Income (USD)</th>\n",
       "      <th>Favorite Color</th>\n",
       "    </tr>\n",
       "  </thead>\n",
       "  <tbody>\n",
       "    <tr>\n",
       "      <th>0</th>\n",
       "      <td>male</td>\n",
       "      <td>32</td>\n",
       "      <td>175</td>\n",
       "      <td>70</td>\n",
       "      <td>Software Engineer</td>\n",
       "      <td>Master's Degree</td>\n",
       "      <td>Married</td>\n",
       "      <td>75000</td>\n",
       "      <td>Blue</td>\n",
       "    </tr>\n",
       "    <tr>\n",
       "      <th>1</th>\n",
       "      <td>male</td>\n",
       "      <td>25</td>\n",
       "      <td>182</td>\n",
       "      <td>85</td>\n",
       "      <td>Sales Representative</td>\n",
       "      <td>Bachelor's Degree</td>\n",
       "      <td>Single</td>\n",
       "      <td>45000</td>\n",
       "      <td>Green</td>\n",
       "    </tr>\n",
       "    <tr>\n",
       "      <th>2</th>\n",
       "      <td>female</td>\n",
       "      <td>41</td>\n",
       "      <td>160</td>\n",
       "      <td>62</td>\n",
       "      <td>Doctor</td>\n",
       "      <td>Doctorate Degree</td>\n",
       "      <td>Married</td>\n",
       "      <td>120000</td>\n",
       "      <td>Purple</td>\n",
       "    </tr>\n",
       "    <tr>\n",
       "      <th>3</th>\n",
       "      <td>male</td>\n",
       "      <td>38</td>\n",
       "      <td>178</td>\n",
       "      <td>79</td>\n",
       "      <td>Lawyer</td>\n",
       "      <td>Bachelor's Degree</td>\n",
       "      <td>Single</td>\n",
       "      <td>90000</td>\n",
       "      <td>Red</td>\n",
       "    </tr>\n",
       "    <tr>\n",
       "      <th>4</th>\n",
       "      <td>female</td>\n",
       "      <td>29</td>\n",
       "      <td>165</td>\n",
       "      <td>58</td>\n",
       "      <td>Graphic Designer</td>\n",
       "      <td>Associate's Degree</td>\n",
       "      <td>Single</td>\n",
       "      <td>35000</td>\n",
       "      <td>Yellow</td>\n",
       "    </tr>\n",
       "  </tbody>\n",
       "</table>\n",
       "</div>"
      ],
      "text/plain": [
       "   Gender  Age  Height (cm)  Weight (kg)             Occupation  \\\n",
       "0    male   32          175           70      Software Engineer   \n",
       "1    male   25          182           85   Sales Representative   \n",
       "2  female   41          160           62                 Doctor   \n",
       "3    male   38          178           79                 Lawyer   \n",
       "4  female   29          165           58       Graphic Designer   \n",
       "\n",
       "       Education Level Marital Status  Income (USD) Favorite Color  \n",
       "0      Master's Degree        Married         75000           Blue  \n",
       "1    Bachelor's Degree         Single         45000          Green  \n",
       "2     Doctorate Degree        Married        120000         Purple  \n",
       "3    Bachelor's Degree         Single         90000            Red  \n",
       "4   Associate's Degree         Single         35000         Yellow  "
      ]
     },
     "execution_count": 3,
     "metadata": {},
     "output_type": "execute_result"
    }
   ],
   "source": [
    "df.head()"
   ]
  },
  {
   "cell_type": "code",
   "execution_count": 4,
   "id": "69f5a3ff",
   "metadata": {},
   "outputs": [],
   "source": [
    "# sns.pairplot(df, hue='Gender')"
   ]
  },
  {
   "cell_type": "markdown",
   "id": "8d13f171",
   "metadata": {},
   "source": [
    "# Assigning X and y "
   ]
  },
  {
   "cell_type": "code",
   "execution_count": 7,
   "id": "7722a22d",
   "metadata": {},
   "outputs": [
    {
     "data": {
      "text/html": [
       "<div>\n",
       "<style scoped>\n",
       "    .dataframe tbody tr th:only-of-type {\n",
       "        vertical-align: middle;\n",
       "    }\n",
       "\n",
       "    .dataframe tbody tr th {\n",
       "        vertical-align: top;\n",
       "    }\n",
       "\n",
       "    .dataframe thead th {\n",
       "        text-align: right;\n",
       "    }\n",
       "</style>\n",
       "<table border=\"1\" class=\"dataframe\">\n",
       "  <thead>\n",
       "    <tr style=\"text-align: right;\">\n",
       "      <th></th>\n",
       "      <th>Gender</th>\n",
       "      <th>Age</th>\n",
       "      <th>Height (cm)</th>\n",
       "      <th>Weight (kg)</th>\n",
       "      <th>Occupation</th>\n",
       "      <th>Education Level</th>\n",
       "      <th>Marital Status</th>\n",
       "      <th>Income (USD)</th>\n",
       "      <th>Favorite Color</th>\n",
       "    </tr>\n",
       "  </thead>\n",
       "  <tbody>\n",
       "    <tr>\n",
       "      <th>0</th>\n",
       "      <td>male</td>\n",
       "      <td>32</td>\n",
       "      <td>175</td>\n",
       "      <td>70</td>\n",
       "      <td>Software Engineer</td>\n",
       "      <td>Master's Degree</td>\n",
       "      <td>Married</td>\n",
       "      <td>75000</td>\n",
       "      <td>Blue</td>\n",
       "    </tr>\n",
       "    <tr>\n",
       "      <th>1</th>\n",
       "      <td>male</td>\n",
       "      <td>25</td>\n",
       "      <td>182</td>\n",
       "      <td>85</td>\n",
       "      <td>Sales Representative</td>\n",
       "      <td>Bachelor's Degree</td>\n",
       "      <td>Single</td>\n",
       "      <td>45000</td>\n",
       "      <td>Green</td>\n",
       "    </tr>\n",
       "    <tr>\n",
       "      <th>2</th>\n",
       "      <td>female</td>\n",
       "      <td>41</td>\n",
       "      <td>160</td>\n",
       "      <td>62</td>\n",
       "      <td>Doctor</td>\n",
       "      <td>Doctorate Degree</td>\n",
       "      <td>Married</td>\n",
       "      <td>120000</td>\n",
       "      <td>Purple</td>\n",
       "    </tr>\n",
       "    <tr>\n",
       "      <th>3</th>\n",
       "      <td>male</td>\n",
       "      <td>38</td>\n",
       "      <td>178</td>\n",
       "      <td>79</td>\n",
       "      <td>Lawyer</td>\n",
       "      <td>Bachelor's Degree</td>\n",
       "      <td>Single</td>\n",
       "      <td>90000</td>\n",
       "      <td>Red</td>\n",
       "    </tr>\n",
       "    <tr>\n",
       "      <th>4</th>\n",
       "      <td>female</td>\n",
       "      <td>29</td>\n",
       "      <td>165</td>\n",
       "      <td>58</td>\n",
       "      <td>Graphic Designer</td>\n",
       "      <td>Associate's Degree</td>\n",
       "      <td>Single</td>\n",
       "      <td>35000</td>\n",
       "      <td>Yellow</td>\n",
       "    </tr>\n",
       "    <tr>\n",
       "      <th>...</th>\n",
       "      <td>...</td>\n",
       "      <td>...</td>\n",
       "      <td>...</td>\n",
       "      <td>...</td>\n",
       "      <td>...</td>\n",
       "      <td>...</td>\n",
       "      <td>...</td>\n",
       "      <td>...</td>\n",
       "      <td>...</td>\n",
       "    </tr>\n",
       "    <tr>\n",
       "      <th>126</th>\n",
       "      <td>female</td>\n",
       "      <td>32</td>\n",
       "      <td>170</td>\n",
       "      <td>64</td>\n",
       "      <td>Nurse</td>\n",
       "      <td>Associate's Degree</td>\n",
       "      <td>Single</td>\n",
       "      <td>60000</td>\n",
       "      <td>Orange</td>\n",
       "    </tr>\n",
       "    <tr>\n",
       "      <th>127</th>\n",
       "      <td>male</td>\n",
       "      <td>38</td>\n",
       "      <td>176</td>\n",
       "      <td>79</td>\n",
       "      <td>Project Manager</td>\n",
       "      <td>Bachelor's Degree</td>\n",
       "      <td>Married</td>\n",
       "      <td>90000</td>\n",
       "      <td>Black</td>\n",
       "    </tr>\n",
       "    <tr>\n",
       "      <th>128</th>\n",
       "      <td>female</td>\n",
       "      <td>27</td>\n",
       "      <td>162</td>\n",
       "      <td>55</td>\n",
       "      <td>Graphic Designer</td>\n",
       "      <td>Associate's Degree</td>\n",
       "      <td>Single</td>\n",
       "      <td>55000</td>\n",
       "      <td>Green</td>\n",
       "    </tr>\n",
       "    <tr>\n",
       "      <th>129</th>\n",
       "      <td>male</td>\n",
       "      <td>33</td>\n",
       "      <td>175</td>\n",
       "      <td>77</td>\n",
       "      <td>Sales Representative</td>\n",
       "      <td>Bachelor's Degree</td>\n",
       "      <td>Married</td>\n",
       "      <td>80000</td>\n",
       "      <td>Yellow</td>\n",
       "    </tr>\n",
       "    <tr>\n",
       "      <th>130</th>\n",
       "      <td>female</td>\n",
       "      <td>29</td>\n",
       "      <td>164</td>\n",
       "      <td>57</td>\n",
       "      <td>Software Developer</td>\n",
       "      <td>Bachelor's Degree</td>\n",
       "      <td>Single</td>\n",
       "      <td>65000</td>\n",
       "      <td>Blue</td>\n",
       "    </tr>\n",
       "  </tbody>\n",
       "</table>\n",
       "<p>131 rows × 9 columns</p>\n",
       "</div>"
      ],
      "text/plain": [
       "     Gender  Age  Height (cm)  Weight (kg)             Occupation  \\\n",
       "0      male   32          175           70      Software Engineer   \n",
       "1      male   25          182           85   Sales Representative   \n",
       "2    female   41          160           62                 Doctor   \n",
       "3      male   38          178           79                 Lawyer   \n",
       "4    female   29          165           58       Graphic Designer   \n",
       "..      ...  ...          ...          ...                    ...   \n",
       "126  female   32          170           64                  Nurse   \n",
       "127    male   38          176           79        Project Manager   \n",
       "128  female   27          162           55       Graphic Designer   \n",
       "129    male   33          175           77   Sales Representative   \n",
       "130  female   29          164           57     Software Developer   \n",
       "\n",
       "         Education Level Marital Status  Income (USD) Favorite Color  \n",
       "0        Master's Degree        Married         75000           Blue  \n",
       "1      Bachelor's Degree         Single         45000          Green  \n",
       "2       Doctorate Degree        Married        120000         Purple  \n",
       "3      Bachelor's Degree         Single         90000            Red  \n",
       "4     Associate's Degree         Single         35000         Yellow  \n",
       "..                   ...            ...           ...            ...  \n",
       "126   Associate's Degree         Single         60000         Orange  \n",
       "127    Bachelor's Degree        Married         90000          Black  \n",
       "128   Associate's Degree         Single         55000          Green  \n",
       "129    Bachelor's Degree        Married         80000         Yellow  \n",
       "130    Bachelor's Degree         Single         65000           Blue  \n",
       "\n",
       "[131 rows x 9 columns]"
      ]
     },
     "execution_count": 7,
     "metadata": {},
     "output_type": "execute_result"
    }
   ],
   "source": [
    "df"
   ]
  },
  {
   "cell_type": "code",
   "execution_count": 9,
   "id": "d6d507b8",
   "metadata": {},
   "outputs": [],
   "source": [
    "features  = [col for col in df.columns if col not in ['Gender']]\n",
    "target= 'Gender'\n",
    "\n",
    "X = df[features]\n",
    "y = df[target]"
   ]
  },
  {
   "cell_type": "markdown",
   "id": "d288611d",
   "metadata": {},
   "source": [
    "# Train-test split"
   ]
  },
  {
   "cell_type": "code",
   "execution_count": 10,
   "id": "6ccb501e",
   "metadata": {},
   "outputs": [],
   "source": [
    "X_train, X_test, y_train, y_test = train_test_split(X, y, test_size=0.2, random_state=100)"
   ]
  },
  {
   "cell_type": "markdown",
   "id": "c640150b",
   "metadata": {},
   "source": [
    "---\n",
    "# Visualize & speculate on training dataset"
   ]
  },
  {
   "cell_type": "markdown",
   "id": "981a5408",
   "metadata": {},
   "source": [
    "### Bias check"
   ]
  },
  {
   "cell_type": "code",
   "execution_count": 13,
   "id": "d0823adc",
   "metadata": {},
   "outputs": [
    {
     "data": {
      "text/plain": [
       "<AxesSubplot:ylabel='Gender'>"
      ]
     },
     "execution_count": 13,
     "metadata": {},
     "output_type": "execute_result"
    },
    {
     "data": {
      "image/png": "[encoded data removed]",
      "text/plain": [
       "<Figure size 432x288 with 1 Axes>"
      ]
     },
     "metadata": {},
     "output_type": "display_data"
    }
   ],
   "source": [
    "df[target].value_counts().plot.pie(autopct = '%1.1f%%')"
   ]
  },
  {
   "cell_type": "markdown",
   "id": "05c6b50d",
   "metadata": {},
   "source": [
    "# Univariate Analysis"
   ]
  },
  {
   "cell_type": "code",
   "execution_count": 36,
   "id": "316e10e6",
   "metadata": {},
   "outputs": [],
   "source": [
    "import matplotlib.pyplot as plt"
   ]
  },
  {
   "cell_type": "code",
   "execution_count": 27,
   "id": "98b9290b",
   "metadata": {},
   "outputs": [],
   "source": [
    "num_cols = [col for col in df.columns if df[col].dtype != 'object']\n",
    "cat_cols = [col for col in df.columns if col not in num_cols+['Gender']]"
   ]
  },
  {
   "cell_type": "markdown",
   "id": "d3bc129d",
   "metadata": {},
   "source": [
    "### Numerical variables"
   ]
  },
  {
   "cell_type": "code",
   "execution_count": 37,
   "id": "166d5926",
   "metadata": {},
   "outputs": [
    {
     "data": {
      "image/png": "[encoded data removed]",
      "text/plain": [
       "<Figure size 1440x1440 with 4 Axes>"
      ]
     },
     "metadata": {
      "needs_background": "light"
     },
     "output_type": "display_data"
    }
   ],
   "source": [
    "f, ax = plt.subplots(2, 2, figsize = (20, 20))"
   ]
  },
  {
   "cell_type": "code",
   "execution_count": 35,
   "id": "3a9fcf0a",
   "metadata": {},
   "outputs": [
    {
     "data": {
      "text/plain": [
       "['Age', 'Height (cm)', 'Weight (kg)', 'Income (USD)']"
      ]
     },
     "execution_count": 35,
     "metadata": {},
     "output_type": "execute_result"
    }
   ],
   "source": [
    "num_cols"
   ]
  },
  {
   "cell_type": "code",
   "execution_count": null,
   "id": "940d7aae",
   "metadata": {},
   "outputs": [],
   "source": []
  },
  {
   "cell_type": "code",
   "execution_count": null,
   "id": "a814c219",
   "metadata": {},
   "outputs": [],
   "source": []
  },
  {
   "cell_type": "code",
   "execution_count": null,
   "id": "07574e8e",
   "metadata": {},
   "outputs": [],
   "source": []
  },
  {
   "cell_type": "code",
   "execution_count": null,
   "id": "33593a26",
   "metadata": {},
   "outputs": [],
   "source": []
  }
 ],
 "metadata": {
  "kernelspec": {
   "display_name": "Python 3 (ipykernel)",
   "language": "python",
   "name": "python3"
  },
  "language_info": {
   "codemirror_mode": {
    "name": "ipython",
    "version": 3
   },
   "file_extension": ".py",
   "mimetype": "text/x-python",
   "name": "python",
   "nbconvert_exporter": "python",
   "pygments_lexer": "ipython3",
   "version": "3.9.7"
  },
  "toc": {
   "base_numbering": 1,
   "nav_menu": {},
   "number_sections": false,
   "sideBar": true,
   "skip_h1_title": false,
   "title_cell": "Table of Contents",
   "title_sidebar": "Contents",
   "toc_cell": false,
   "toc_position": {},
   "toc_section_display": true,
   "toc_window_display": false
  }
 },
 "nbformat": 4,
 "nbformat_minor": 5
}
