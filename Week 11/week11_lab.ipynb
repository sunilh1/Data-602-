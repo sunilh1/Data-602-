{
 "cells": [
  {
   "cell_type": "markdown",
   "id": "318de7cb",
   "metadata": {},
   "source": [
    "# Week11 - Clustering Lab\n",
    "\n",
    "* Create clusters for the following dataset\n",
    "* Choose a meaningful cluster count\n",
    "* Identify potential labels for each cluster"
   ]
  },
  {
   "cell_type": "code",
   "execution_count": 45,
   "id": "4089dbd4",
   "metadata": {},
   "outputs": [
    {
     "data": {
      "text/html": [
       "<div>\n",
       "<style scoped>\n",
       "    .dataframe tbody tr th:only-of-type {\n",
       "        vertical-align: middle;\n",
       "    }\n",
       "\n",
       "    .dataframe tbody tr th {\n",
       "        vertical-align: top;\n",
       "    }\n",
       "\n",
       "    .dataframe thead th {\n",
       "        text-align: right;\n",
       "    }\n",
       "</style>\n",
       "<table border=\"1\" class=\"dataframe\">\n",
       "  <thead>\n",
       "    <tr style=\"text-align: right;\">\n",
       "      <th></th>\n",
       "      <th>name</th>\n",
       "      <th>text</th>\n",
       "    </tr>\n",
       "  </thead>\n",
       "  <tbody>\n",
       "    <tr>\n",
       "      <th>0</th>\n",
       "      <td>Digby Morrell</td>\n",
       "      <td>digby morrell born 10 october 1979 is a former...</td>\n",
       "    </tr>\n",
       "    <tr>\n",
       "      <th>1</th>\n",
       "      <td>Alfred J. Lewy</td>\n",
       "      <td>alfred j lewy aka sandy lewy graduated from un...</td>\n",
       "    </tr>\n",
       "    <tr>\n",
       "      <th>2</th>\n",
       "      <td>Harpdog Brown</td>\n",
       "      <td>harpdog brown is a singer and harmonica player...</td>\n",
       "    </tr>\n",
       "    <tr>\n",
       "      <th>3</th>\n",
       "      <td>Franz Rottensteiner</td>\n",
       "      <td>franz rottensteiner born in waidmannsfeld lowe...</td>\n",
       "    </tr>\n",
       "    <tr>\n",
       "      <th>4</th>\n",
       "      <td>G-Enka</td>\n",
       "      <td>henry krvits born 30 december 1974 in tallinn ...</td>\n",
       "    </tr>\n",
       "  </tbody>\n",
       "</table>\n",
       "</div>"
      ],
      "text/plain": [
       "                  name                                               text\n",
       "0        Digby Morrell  digby morrell born 10 october 1979 is a former...\n",
       "1       Alfred J. Lewy  alfred j lewy aka sandy lewy graduated from un...\n",
       "2        Harpdog Brown  harpdog brown is a singer and harmonica player...\n",
       "3  Franz Rottensteiner  franz rottensteiner born in waidmannsfeld lowe...\n",
       "4               G-Enka  henry krvits born 30 december 1974 in tallinn ..."
      ]
     },
     "execution_count": 45,
     "metadata": {},
     "output_type": "execute_result"
    }
   ],
   "source": [
    "from zipfile import ZipFile\n",
    "from io import BytesIO\n",
    "import urllib.request as urllib2\n",
    "import pandas as pd\n",
    "\n",
    "def get_data():\n",
    "    r = urllib2.urlopen(\"https://github.com/msaricaumbc/DS_data/blob/master/ds602/people_wiki.zip?raw=true\").read()\n",
    "    file = ZipFile(BytesIO(r))\n",
    "    people_wiki_csv = file.open(\"people_wiki.csv\")\n",
    "    people = pd.read_csv(people_wiki_csv)\n",
    "    people.drop('URI', inplace=True, axis=1)\n",
    "    return people\n",
    "\n",
    "people = get_data()\n",
    "people.head()"
   ]
  },
  {
   "cell_type": "code",
   "execution_count": 46,
   "id": "14f7d251",
   "metadata": {},
   "outputs": [
    {
     "name": "stdout",
     "output_type": "stream",
     "text": [
      "<class 'pandas.core.frame.DataFrame'>\n",
      "RangeIndex: 42786 entries, 0 to 42785\n",
      "Data columns (total 2 columns):\n",
      " #   Column  Non-Null Count  Dtype \n",
      "---  ------  --------------  ----- \n",
      " 0   name    42786 non-null  object\n",
      " 1   text    42786 non-null  object\n",
      "dtypes: object(2)\n",
      "memory usage: 668.7+ KB\n"
     ]
    }
   ],
   "source": [
    "people.info()"
   ]
  },
  {
   "cell_type": "code",
   "execution_count": 50,
   "id": "5949a090",
   "metadata": {},
   "outputs": [],
   "source": [
    "import pandas as pd\n",
    "from sklearn.feature_extraction.text import TfidfVectorizer\n",
    "from sklearn.cluster import KMeans\n",
    "\n",
    "def clustering(clusters):\n",
    "    vectorizer = TfidfVectorizer(stop_words='english')\n",
    "    X = vectorizer.fit_transform(people['text'])\n",
    "\n",
    "    kmeans = KMeans(n_clusters=clusters, random_state=42).fit(X)\n",
    "\n",
    "    order_centroids = kmeans.cluster_centers_.argsort()[:, ::-1]\n",
    "    terms = vectorizer.get_feature_names()\n",
    "\n",
    "    for i in range(clusters):\n",
    "        print(\"Cluster %d:\" % i)\n",
    "        for ind in order_centroids[i, :10]:\n",
    "            print(' %s' % terms[ind])\n",
    "        print()\n",
    "        \n",
    "    cluster_counts"
   ]
  },
  {
   "cell_type": "code",
   "execution_count": 51,
   "id": "30edbf53",
   "metadata": {},
   "outputs": [
    {
     "name": "stderr",
     "output_type": "stream",
     "text": [
      "C:\\Users\\deval\\AppData\\Local\\Programs\\Python\\Python310\\lib\\site-packages\\sklearn\\utils\\deprecation.py:87: FutureWarning: Function get_feature_names is deprecated; get_feature_names is deprecated in 1.0 and will be removed in 1.2. Please use get_feature_names_out instead.\n",
      "  warnings.warn(msg, category=FutureWarning)\n"
     ]
    },
    {
     "name": "stdout",
     "output_type": "stream",
     "text": [
      "Cluster 0:\n",
      " university\n",
      " served\n",
      " member\n",
      " president\n",
      " law\n",
      " party\n",
      " research\n",
      " professor\n",
      " minister\n",
      " election\n",
      "\n",
      "Cluster 1:\n",
      " music\n",
      " film\n",
      " new\n",
      " album\n",
      " art\n",
      " band\n",
      " television\n",
      " award\n",
      " series\n",
      " work\n",
      "\n",
      "Cluster 2:\n",
      " league\n",
      " season\n",
      " team\n",
      " played\n",
      " football\n",
      " games\n",
      " coach\n",
      " club\n",
      " player\n",
      " won\n",
      "\n"
     ]
    }
   ],
   "source": [
    "clustering(3)"
   ]
  },
  {
   "cell_type": "code",
   "execution_count": 52,
   "id": "a2a3bb4f",
   "metadata": {},
   "outputs": [
    {
     "name": "stdout",
     "output_type": "stream",
     "text": [
      "Cluster 0:\n",
      " party\n",
      " election\n",
      " minister\n",
      " law\n",
      " served\n",
      " member\n",
      " elected\n",
      " state\n",
      " president\n",
      " district\n",
      "\n",
      "Cluster 1:\n",
      " season\n",
      " team\n",
      " football\n",
      " played\n",
      " league\n",
      " coach\n",
      " club\n",
      " cup\n",
      " won\n",
      " championship\n",
      "\n",
      "Cluster 2:\n",
      " music\n",
      " film\n",
      " album\n",
      " band\n",
      " released\n",
      " television\n",
      " new\n",
      " festival\n",
      " theatre\n",
      " series\n",
      "\n",
      "Cluster 3:\n",
      " league\n",
      " baseball\n",
      " major\n",
      " season\n",
      " games\n",
      " runs\n",
      " played\n",
      " pitcher\n",
      " minor\n",
      " sox\n",
      "\n",
      "Cluster 4:\n",
      " university\n",
      " new\n",
      " research\n",
      " art\n",
      " book\n",
      " work\n",
      " published\n",
      " professor\n",
      " american\n",
      " books\n",
      "\n"
     ]
    }
   ],
   "source": [
    "clustering(5)"
   ]
  },
  {
   "cell_type": "markdown",
   "id": "a9e3cb53",
   "metadata": {},
   "source": [
    "From the results, there seem to be similar or overlapping words when choosing number of clusters as 5. For example, Cluster 1 seems to be about Football, and Cluster 3 seems to be about baseball. However, they both are about sports. <br>\n",
    "There seems to be a clearer distinction when number of clusters is chosen as 3, and a more general one.<br> \n",
    "\n",
    "For n_cluster=3<br>\n",
    "Cluster 0: Education <br>\n",
    "Cluster 1: Entertainment<br>\n",
    "Cluster 2: Sports<br>\n",
    "<br><br>\n",
    "For n_cluster=5<br>\n",
    "Cluster 0: Politics<br>\n",
    "Cluster 1: Football<br>\n",
    "Cluster 2: Entertainment<br>\n",
    "Cluster 3: Baseball<br>\n",
    "Cluster 4: University<br>\n"
   ]
  },
  {
   "cell_type": "code",
   "execution_count": null,
   "id": "1b461172",
   "metadata": {},
   "outputs": [],
   "source": []
  },
  {
   "cell_type": "code",
   "execution_count": null,
   "id": "2a4bba60",
   "metadata": {},
   "outputs": [],
   "source": []
  },
  {
   "cell_type": "code",
   "execution_count": null,
   "id": "1b539f9a",
   "metadata": {},
   "outputs": [],
   "source": []
  },
  {
   "cell_type": "code",
   "execution_count": null,
   "id": "18b900a1",
   "metadata": {},
   "outputs": [],
   "source": []
  },
  {
   "cell_type": "code",
   "execution_count": null,
   "id": "1cc68bac",
   "metadata": {},
   "outputs": [],
   "source": []
  },
  {
   "cell_type": "code",
   "execution_count": null,
   "id": "a54c4732",
   "metadata": {},
   "outputs": [],
   "source": []
  }
 ],
 "metadata": {
  "kernelspec": {
   "display_name": "Python 3 (ipykernel)",
   "language": "python",
   "name": "python3"
  },
  "language_info": {
   "codemirror_mode": {
    "name": "ipython",
    "version": 3
   },
   "file_extension": ".py",
   "mimetype": "text/x-python",
   "name": "python",
   "nbconvert_exporter": "python",
   "pygments_lexer": "ipython3",
   "version": "3.10.0"
  },
  "toc": {
   "base_numbering": 1,
   "nav_menu": {},
   "number_sections": false,
   "sideBar": true,
   "skip_h1_title": false,
   "title_cell": "Table of Contents",
   "title_sidebar": "Contents",
   "toc_cell": false,
   "toc_position": {},
   "toc_section_display": true,
   "toc_window_display": true
  }
 },
 "nbformat": 4,
 "nbformat_minor": 5
}
