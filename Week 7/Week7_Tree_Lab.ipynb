{
 "cells": [
  {
   "cell_type": "markdown",
   "id": "f596baf6",
   "metadata": {
    "id": "f596baf6"
   },
   "source": [
    "# Week7 - Decision Tree Lab\n",
    "\n",
    "* Train-test split\n",
    "* Train a decison tree model\n",
    "* Train a random forest model\n",
    "* Evaluate the models\n",
    "* Explain findings"
   ]
  },
  {
   "cell_type": "code",
   "execution_count": 1,
   "id": "bacdfd11",
   "metadata": {
    "id": "bacdfd11"
   },
   "outputs": [],
   "source": [
    "import pandas as pd\n",
    "import numpy as np\n",
    "import matplotlib.pyplot as plt\n",
    "%matplotlib inline\n",
    "\n",
    "df = pd.read_csv('https://raw.githubusercontent.com/msaricaumbc/DS_data/master/ds602/log_reg/employee-turnover-balanced.csv')\n",
    "y = df['left_company']\n",
    "X = df.iloc[:, 1:]"
   ]
  },
  {
   "cell_type": "code",
   "execution_count": 2,
   "id": "5OuqfLBMLp7F",
   "metadata": {
    "colab": {
     "base_uri": "https://localhost:8080/"
    },
    "id": "5OuqfLBMLp7F",
    "outputId": "568f4b11-88b1-45bb-e56d-25a7fd1ae9a4"
   },
   "outputs": [
    {
     "name": "stdout",
     "output_type": "stream",
     "text": [
      "<class 'pandas.core.frame.DataFrame'>\n",
      "RangeIndex: 1000 entries, 0 to 999\n",
      "Data columns (total 19 columns):\n",
      " #   Column                         Non-Null Count  Dtype \n",
      "---  ------                         --------------  ----- \n",
      " 0   left_company                   1000 non-null   object\n",
      " 1   age                            1000 non-null   int64 \n",
      " 2   frequency_of_travel            1000 non-null   object\n",
      " 3   department                     1000 non-null   object\n",
      " 4   commuting_distance             1000 non-null   int64 \n",
      " 5   education                      1000 non-null   int64 \n",
      " 6   satisfaction_with_environment  1000 non-null   int64 \n",
      " 7   gender                         1000 non-null   object\n",
      " 8   seniority_level                1000 non-null   int64 \n",
      " 9   position                       1000 non-null   object\n",
      " 10  satisfaction_with_job          1000 non-null   int64 \n",
      " 11  married_or_single              1000 non-null   object\n",
      " 12  last_raise_pct                 1000 non-null   int64 \n",
      " 13  last_performance_rating        1000 non-null   int64 \n",
      " 14  total_years_working            1000 non-null   int64 \n",
      " 15  years_at_company               1000 non-null   int64 \n",
      " 16  years_in_current_job           1000 non-null   int64 \n",
      " 17  years_since_last_promotion     1000 non-null   int64 \n",
      " 18  years_with_current_supervisor  1000 non-null   int64 \n",
      "dtypes: int64(13), object(6)\n",
      "memory usage: 148.6+ KB\n"
     ]
    }
   ],
   "source": [
    "df.info()"
   ]
  },
  {
   "cell_type": "code",
   "execution_count": 3,
   "id": "jYtjmLmAPkNS",
   "metadata": {
    "id": "jYtjmLmAPkNS"
   },
   "outputs": [],
   "source": [
    "\n",
    "numerical_vars = ['age', 'education', 'commuting_distance', 'satisfaction_with_environment', \n",
    "        'seniority_level', 'satisfaction_with_job', 'last_raise_pct', 'last_performance_rating',\n",
    "        'total_years_working', 'years_at_company', 'years_in_current_job', 'years_since_last_promotion','years_with_current_supervisor']\n",
    "\n",
    "categorical_Vars = ['frequency_of_travel', 'department','gender','position', 'married_or_single']"
   ]
  },
  {
   "cell_type": "code",
   "execution_count": 4,
   "id": "FZVFQszzTM7b",
   "metadata": {
    "id": "FZVFQszzTM7b"
   },
   "outputs": [],
   "source": [
    "from sklearn.model_selection import train_test_split\n",
    "from sklearn.tree import DecisionTreeClassifier\n",
    "from sklearn.ensemble import RandomForestClassifier\n",
    "from sklearn.metrics import accuracy_score, precision_score, recall_score, f1_score\n",
    "from sklearn.pipeline import Pipeline\n",
    "from sklearn.impute import SimpleImputer\n",
    "from sklearn.preprocessing import StandardScaler, OneHotEncoder\n",
    "from sklearn.compose import ColumnTransformer"
   ]
  },
  {
   "cell_type": "markdown",
   "id": "1seQLJFYZAUc",
   "metadata": {
    "id": "1seQLJFYZAUc"
   },
   "source": [
    "Train-test split"
   ]
  },
  {
   "cell_type": "code",
   "execution_count": 5,
   "id": "CdX66GRFSeQw",
   "metadata": {
    "id": "CdX66GRFSeQw"
   },
   "outputs": [],
   "source": [
    "\n",
    "# Split the data into training and testing sets\n",
    "X_train, X_test, y_train, y_test = train_test_split(X, y, test_size=0.2, random_state=142)"
   ]
  },
  {
   "cell_type": "code",
   "execution_count": 6,
   "id": "EfZ7Gj3qVtya",
   "metadata": {
    "colab": {
     "base_uri": "https://localhost:8080/"
    },
    "id": "EfZ7Gj3qVtya",
    "outputId": "4bcdbec9-d8bb-412a-cc27-b55115d8a04a"
   },
   "outputs": [
    {
     "name": "stdout",
     "output_type": "stream",
     "text": [
      "Shape of numerical data after processing: (800, 13)\n",
      "Shape of categorical data after processing: (800, 28)\n"
     ]
    }
   ],
   "source": [
    "from sklearn.pipeline import Pipeline\n",
    "from sklearn.impute import SimpleImputer\n",
    "from sklearn.preprocessing import StandardScaler, OneHotEncoder\n",
    "from sklearn.compose import ColumnTransformer\n",
    "\n",
    "# Create pipelines as before\n",
    "numerical_pipeline = Pipeline([('imputer', SimpleImputer(strategy='median')), ('scaler', StandardScaler())])\n",
    "\n",
    "categorical_pipeline = Pipeline([('imputer', SimpleImputer(strategy='most_frequent')),\n",
    "    ('onehot', OneHotEncoder(handle_unknown='ignore'))])\n",
    "\n",
    "preprocessor = ColumnTransformer([('numeric', numerical_pipeline, numerical_vars),('categorical', categorical_pipeline, categorical_Vars)])\n",
    "\n",
    "# Verify the pipelines contain the expected columns\n",
    "X_train_transformed = preprocessor.fit_transform(X_train)\n",
    "print(f\"Shape of numerical data after processing: {X_train_transformed[:, :len(numerical_vars)].shape}\")\n",
    "print(f\"Shape of categorical data after processing: {X_train_transformed[:, len(categorical_Vars):].shape}\")"
   ]
  },
  {
   "cell_type": "markdown",
   "id": "zFDiErKSllOM",
   "metadata": {
    "id": "zFDiErKSllOM"
   },
   "source": [
    "Train a decison tree model"
   ]
  },
  {
   "cell_type": "code",
   "execution_count": 7,
   "id": "HiFv9C7jVzZt",
   "metadata": {
    "colab": {
     "base_uri": "https://localhost:8080/"
    },
    "id": "HiFv9C7jVzZt",
    "outputId": "e95b6291-ea8d-44dc-fb4c-b81826445dbe"
   },
   "outputs": [
    {
     "name": "stdout",
     "output_type": "stream",
     "text": [
      "Training accuracy: 1.000\n",
      "Test accuracy: 0.750\n"
     ]
    }
   ],
   "source": [
    "\n",
    "pipeline = Pipeline([('preprocessor', preprocessor),('dt', DecisionTreeClassifier())])\n",
    "\n",
    "# Fit pipeline on training data\n",
    "pipeline.fit(X_train, y_train)\n",
    "\n",
    "# Print accuracy on training and test data\n",
    "print(f\"Training accuracy: {pipeline.score(X_train, y_train):.3f}\")\n",
    "print(f\"Test accuracy: {pipeline.score(X_test, y_test):.3f}\")"
   ]
  },
  {
   "cell_type": "markdown",
   "id": "o0EHEKUjln6s",
   "metadata": {
    "id": "o0EHEKUjln6s"
   },
   "source": [
    "Train a random forest model"
   ]
  },
  {
   "cell_type": "code",
   "execution_count": 8,
   "id": "W9oRSSb6hXYL",
   "metadata": {
    "colab": {
     "base_uri": "https://localhost:8080/"
    },
    "id": "W9oRSSb6hXYL",
    "outputId": "794aae20-0498-447b-80ac-dd1000b151db"
   },
   "outputs": [
    {
     "name": "stdout",
     "output_type": "stream",
     "text": [
      "Training accuracy: 1.000\n",
      "Test accuracy: 0.870\n"
     ]
    }
   ],
   "source": [
    "\n",
    "rf_pipeline = Pipeline([('preprocessor', preprocessor),('rf', RandomForestClassifier())])\n",
    "\n",
    "# Fit pipeline on training data\n",
    "rf_pipeline.fit(X_train, y_train)\n",
    "\n",
    "# Print accuracy on training and test data\n",
    "print(f\"Training accuracy: {rf_pipeline.score(X_train, y_train):.3f}\")\n",
    "print(f\"Test accuracy: {rf_pipeline.score(X_test, y_test):.3f}\")"
   ]
  },
  {
   "cell_type": "markdown",
   "id": "qFyIZPWWlqv5",
   "metadata": {
    "id": "qFyIZPWWlqv5"
   },
   "source": [
    "Evaluate the models"
   ]
  },
  {
   "cell_type": "code",
   "execution_count": 9,
   "id": "mx-hghfwhp5y",
   "metadata": {
    "colab": {
     "base_uri": "https://localhost:8080/"
    },
    "id": "mx-hghfwhp5y",
    "outputId": "30d35a1e-d196-49a9-b280-47268fc38ceb"
   },
   "outputs": [
    {
     "name": "stdout",
     "output_type": "stream",
     "text": [
      "Decision Tree Model Performance:\n",
      "              precision    recall  f1-score   support\n",
      "\n",
      "          No       0.90      0.60      0.72       108\n",
      "         Yes       0.66      0.92      0.77        92\n",
      "\n",
      "    accuracy                           0.75       200\n",
      "   macro avg       0.78      0.76      0.75       200\n",
      "weighted avg       0.79      0.75      0.75       200\n",
      "\n"
     ]
    }
   ],
   "source": [
    "from sklearn.metrics import classification_report\n",
    "\n",
    "# Evaluate Decision Tree model\n",
    "y_pred_dt = pipeline.predict(X_test)\n",
    "print(\"Decision Tree Model Performance:\")\n",
    "print(classification_report(y_test, y_pred_dt))\n",
    "\n"
   ]
  },
  {
   "cell_type": "code",
   "execution_count": 10,
   "id": "FfJqMO6Fj7v1",
   "metadata": {
    "colab": {
     "base_uri": "https://localhost:8080/"
    },
    "id": "FfJqMO6Fj7v1",
    "outputId": "34fc4c9d-657a-4042-b2a3-024b2692cf7e"
   },
   "outputs": [
    {
     "name": "stdout",
     "output_type": "stream",
     "text": [
      "Random Forest Model Performance:\n",
      "              precision    recall  f1-score   support\n",
      "\n",
      "          No       0.91      0.84      0.87       108\n",
      "         Yes       0.83      0.90      0.86        92\n",
      "\n",
      "    accuracy                           0.87       200\n",
      "   macro avg       0.87      0.87      0.87       200\n",
      "weighted avg       0.87      0.87      0.87       200\n",
      "\n"
     ]
    }
   ],
   "source": [
    "# Evaluate Random Forest model\n",
    "y_pred_rf = rf_pipeline.predict(X_test)\n",
    "print(\"Random Forest Model Performance:\")\n",
    "print(classification_report(y_test, y_pred_rf))"
   ]
  },
  {
   "cell_type": "markdown",
   "id": "GehY_N25ltaK",
   "metadata": {
    "id": "GehY_N25ltaK"
   },
   "source": [
    "Explain findings"
   ]
  },
  {
   "cell_type": "markdown",
   "id": "YBAGWAcMkPFv",
   "metadata": {
    "id": "YBAGWAcMkPFv"
   },
   "source": [
    "Based on the above performance metrics we can see that Random Forest model outperforms Decision Tree. The accuracy, recall, precision and f1-score metrics are higher and better for Random Forest model. By this we can confirm that Random Forest is a better model for this task."
   ]
  }
 ],
 "metadata": {
  "colab": {
   "provenance": []
  },
  "kernelspec": {
   "display_name": "Python 3 (ipykernel)",
   "language": "python",
   "name": "python3"
  },
  "language_info": {
   "codemirror_mode": {
    "name": "ipython",
    "version": 3
   },
   "file_extension": ".py",
   "mimetype": "text/x-python",
   "name": "python",
   "nbconvert_exporter": "python",
   "pygments_lexer": "ipython3",
   "version": "3.11.2"
  },
  "toc": {
   "base_numbering": 1,
   "nav_menu": {},
   "number_sections": false,
   "sideBar": true,
   "skip_h1_title": false,
   "title_cell": "Table of Contents",
   "title_sidebar": "Contents",
   "toc_cell": false,
   "toc_position": {},
   "toc_section_display": true,
   "toc_window_display": true
  }
 },
 "nbformat": 4,
 "nbformat_minor": 5
}
