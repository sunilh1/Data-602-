{
 "cells": [
  {
   "cell_type": "markdown",
   "id": "6ff0d426",
   "metadata": {},
   "source": [
    "# Homework 12\n",
    "\n",
    "https://scikit-learn.org/0.15/modules/scaling_strategies.html#incremental-learning\n",
    "\n",
    "* Implement a mini batch functionality to train a regressor.\n",
    "    - (Optional) If anyone want to do this in a pipeline can do this: https://koaning.github.io/tokenwiser/api/pipeline.html\n",
    "\n",
    "* Save model, load the model again and test it on `X_test` __Do NOT commit the pickle file__"
   ]
  },
  {
   "cell_type": "markdown",
   "id": "60785719",
   "metadata": {},
   "source": [
    "# Importing Libraries"
   ]
  },
  {
   "cell_type": "code",
   "execution_count": 1,
   "id": "309dac5f",
   "metadata": {},
   "outputs": [],
   "source": [
    "import pandas as pd\n",
    "import numpy as np\n",
    "import matplotlib.pyplot as plt\n",
    "from sklearn.linear_model import SGDRegressor \n",
    "from sklearn.model_selection import train_test_split\n",
    "from sklearn.metrics import mean_squared_error\n",
    "\n",
    "import joblib\n",
    "\n",
    "\n",
    "from sklearn.preprocessing import LabelEncoder\n",
    "encoder = LabelEncoder()"
   ]
  },
  {
   "cell_type": "code",
   "execution_count": 2,
   "id": "fb2861de",
   "metadata": {},
   "outputs": [],
   "source": [
    "def test_df():\n",
    "    df = pd.read_csv('https://raw.githubusercontent.com/msaricaumbc/DS_data/master/ds602/car_prices/car_prices.csv', low_memory=False)\n",
    "\n",
    "    df = df.sample(5000, random_state=100).reset_index(drop=True)\n",
    "    \n",
    "    y = df['sellingprice']\n",
    "    df.drop('sellingprice', axis=1, inplace=True)\n",
    "    X = df\n",
    "    \n",
    "    return X,y\n",
    "\n",
    "def partial_df():\n",
    "    df = pd.read_csv('https://raw.githubusercontent.com/msaricaumbc/DS_data/master/ds602/car_prices/car_prices.csv', low_memory=False)\n",
    "   \n",
    "    while(True):\n",
    "        yield df.sample(100).reset_index(drop=True)\n",
    "        \n",
    "gen = partial_df()"
   ]
  },
  {
   "cell_type": "code",
   "execution_count": 3,
   "id": "86c9b0d2",
   "metadata": {},
   "outputs": [],
   "source": [
    "X_test, y_test = test_df()"
   ]
  },
  {
   "cell_type": "code",
   "execution_count": 4,
   "id": "e2f68e58",
   "metadata": {
    "scrolled": true
   },
   "outputs": [
    {
     "data": {
      "text/html": [
       "<div>\n",
       "<style scoped>\n",
       "    .dataframe tbody tr th:only-of-type {\n",
       "        vertical-align: middle;\n",
       "    }\n",
       "\n",
       "    .dataframe tbody tr th {\n",
       "        vertical-align: top;\n",
       "    }\n",
       "\n",
       "    .dataframe thead th {\n",
       "        text-align: right;\n",
       "    }\n",
       "</style>\n",
       "<table border=\"1\" class=\"dataframe\">\n",
       "  <thead>\n",
       "    <tr style=\"text-align: right;\">\n",
       "      <th></th>\n",
       "      <th>year</th>\n",
       "      <th>make</th>\n",
       "      <th>model</th>\n",
       "      <th>trim</th>\n",
       "      <th>body</th>\n",
       "      <th>transmission</th>\n",
       "      <th>vin</th>\n",
       "      <th>state</th>\n",
       "      <th>condition</th>\n",
       "      <th>odometer</th>\n",
       "      <th>color</th>\n",
       "      <th>interior</th>\n",
       "      <th>seller</th>\n",
       "      <th>mmr</th>\n",
       "      <th>sellingprice</th>\n",
       "      <th>saledate</th>\n",
       "    </tr>\n",
       "  </thead>\n",
       "  <tbody>\n",
       "    <tr>\n",
       "      <th>0</th>\n",
       "      <td>2006</td>\n",
       "      <td>Nissan</td>\n",
       "      <td>Sentra</td>\n",
       "      <td>1.8</td>\n",
       "      <td>Sedan</td>\n",
       "      <td>manual</td>\n",
       "      <td>3n1cb51d56l548001</td>\n",
       "      <td>mo</td>\n",
       "      <td>1.9</td>\n",
       "      <td>72997.0</td>\n",
       "      <td>black</td>\n",
       "      <td>gray</td>\n",
       "      <td>first community credit union</td>\n",
       "      <td>4325</td>\n",
       "      <td>1900</td>\n",
       "      <td>Tue Mar 10 2015 04:00:00 GMT-0700 (PDT)</td>\n",
       "    </tr>\n",
       "    <tr>\n",
       "      <th>1</th>\n",
       "      <td>2012</td>\n",
       "      <td>Acura</td>\n",
       "      <td>MDX</td>\n",
       "      <td>Technology Package</td>\n",
       "      <td>suv</td>\n",
       "      <td>NaN</td>\n",
       "      <td>2hnyd2h38ch540000</td>\n",
       "      <td>pa</td>\n",
       "      <td>4.4</td>\n",
       "      <td>43637.0</td>\n",
       "      <td>gray</td>\n",
       "      <td>black</td>\n",
       "      <td>royal coast auto inc</td>\n",
       "      <td>27300</td>\n",
       "      <td>27600</td>\n",
       "      <td>Fri Jun 05 2015 02:00:00 GMT-0700 (PDT)</td>\n",
       "    </tr>\n",
       "    <tr>\n",
       "      <th>2</th>\n",
       "      <td>2002</td>\n",
       "      <td>Mazda</td>\n",
       "      <td>Millenia</td>\n",
       "      <td>Premium</td>\n",
       "      <td>Sedan</td>\n",
       "      <td>automatic</td>\n",
       "      <td>jm1ta221421726159</td>\n",
       "      <td>wa</td>\n",
       "      <td>2.7</td>\n",
       "      <td>141118.0</td>\n",
       "      <td>silver</td>\n",
       "      <td>gray</td>\n",
       "      <td>subaru of spokane</td>\n",
       "      <td>1175</td>\n",
       "      <td>1300</td>\n",
       "      <td>Wed Jan 21 2015 04:30:00 GMT-0800 (PST)</td>\n",
       "    </tr>\n",
       "    <tr>\n",
       "      <th>3</th>\n",
       "      <td>2006</td>\n",
       "      <td>Mercedes-Benz</td>\n",
       "      <td>E-Class</td>\n",
       "      <td>E350 4MATIC</td>\n",
       "      <td>Sedan</td>\n",
       "      <td>automatic</td>\n",
       "      <td>wdbuf87j26x200132</td>\n",
       "      <td>nj</td>\n",
       "      <td>2.7</td>\n",
       "      <td>119323.0</td>\n",
       "      <td>black</td>\n",
       "      <td>beige</td>\n",
       "      <td>credit acceptance corp/vrs/southfield</td>\n",
       "      <td>7100</td>\n",
       "      <td>5000</td>\n",
       "      <td>Tue May 26 2015 03:45:00 GMT-0700 (PDT)</td>\n",
       "    </tr>\n",
       "    <tr>\n",
       "      <th>4</th>\n",
       "      <td>2013</td>\n",
       "      <td>Kia</td>\n",
       "      <td>Optima</td>\n",
       "      <td>SX</td>\n",
       "      <td>Sedan</td>\n",
       "      <td>automatic</td>\n",
       "      <td>5xxgr4a61dg164571</td>\n",
       "      <td>ca</td>\n",
       "      <td>3.4</td>\n",
       "      <td>28080.0</td>\n",
       "      <td>black</td>\n",
       "      <td>black</td>\n",
       "      <td>kia motors finance</td>\n",
       "      <td>20700</td>\n",
       "      <td>21500</td>\n",
       "      <td>Tue Jan 13 2015 12:30:00 GMT-0800 (PST)</td>\n",
       "    </tr>\n",
       "    <tr>\n",
       "      <th>...</th>\n",
       "      <td>...</td>\n",
       "      <td>...</td>\n",
       "      <td>...</td>\n",
       "      <td>...</td>\n",
       "      <td>...</td>\n",
       "      <td>...</td>\n",
       "      <td>...</td>\n",
       "      <td>...</td>\n",
       "      <td>...</td>\n",
       "      <td>...</td>\n",
       "      <td>...</td>\n",
       "      <td>...</td>\n",
       "      <td>...</td>\n",
       "      <td>...</td>\n",
       "      <td>...</td>\n",
       "      <td>...</td>\n",
       "    </tr>\n",
       "    <tr>\n",
       "      <th>95</th>\n",
       "      <td>2004</td>\n",
       "      <td>cadillac</td>\n",
       "      <td>srx</td>\n",
       "      <td>4x2 suv</td>\n",
       "      <td>NaN</td>\n",
       "      <td>automatic</td>\n",
       "      <td>1gyee63ax40151815</td>\n",
       "      <td>nc</td>\n",
       "      <td>3</td>\n",
       "      <td>124971.0</td>\n",
       "      <td>white</td>\n",
       "      <td>beige</td>\n",
       "      <td>north state acceptance</td>\n",
       "      <td>3225</td>\n",
       "      <td>2700</td>\n",
       "      <td>Tue Jan 06 2015 01:30:00 GMT-0800 (PST)</td>\n",
       "    </tr>\n",
       "    <tr>\n",
       "      <th>96</th>\n",
       "      <td>2013</td>\n",
       "      <td>Toyota</td>\n",
       "      <td>Corolla</td>\n",
       "      <td>L</td>\n",
       "      <td>sedan</td>\n",
       "      <td>automatic</td>\n",
       "      <td>5yfbu4ee3dp145828</td>\n",
       "      <td>fl</td>\n",
       "      <td>4.2</td>\n",
       "      <td>38787.0</td>\n",
       "      <td>gray</td>\n",
       "      <td>beige</td>\n",
       "      <td>santander consumer</td>\n",
       "      <td>10550</td>\n",
       "      <td>9800</td>\n",
       "      <td>Wed Jun 17 2015 02:05:00 GMT-0700 (PDT)</td>\n",
       "    </tr>\n",
       "    <tr>\n",
       "      <th>97</th>\n",
       "      <td>2011</td>\n",
       "      <td>Ford</td>\n",
       "      <td>F-150</td>\n",
       "      <td>King Ranch</td>\n",
       "      <td>supercrew</td>\n",
       "      <td>automatic</td>\n",
       "      <td>1ftfw1et7bkd34146</td>\n",
       "      <td>tx</td>\n",
       "      <td>4.1</td>\n",
       "      <td>87247.0</td>\n",
       "      <td>white</td>\n",
       "      <td>brown</td>\n",
       "      <td>rlb investments</td>\n",
       "      <td>24700</td>\n",
       "      <td>26200</td>\n",
       "      <td>Wed Jun 17 2015 03:20:00 GMT-0700 (PDT)</td>\n",
       "    </tr>\n",
       "    <tr>\n",
       "      <th>98</th>\n",
       "      <td>2013</td>\n",
       "      <td>Chevrolet</td>\n",
       "      <td>Cruze</td>\n",
       "      <td>2LT</td>\n",
       "      <td>sedan</td>\n",
       "      <td>automatic</td>\n",
       "      <td>1g1pe5sb7d7247520</td>\n",
       "      <td>wi</td>\n",
       "      <td>3.4</td>\n",
       "      <td>40422.0</td>\n",
       "      <td>silver</td>\n",
       "      <td>black</td>\n",
       "      <td>the hertz corporation</td>\n",
       "      <td>10900</td>\n",
       "      <td>10800</td>\n",
       "      <td>Wed Jun 03 2015 03:00:00 GMT-0700 (PDT)</td>\n",
       "    </tr>\n",
       "    <tr>\n",
       "      <th>99</th>\n",
       "      <td>2008</td>\n",
       "      <td>Dodge</td>\n",
       "      <td>Avenger</td>\n",
       "      <td>SE</td>\n",
       "      <td>Sedan</td>\n",
       "      <td>automatic</td>\n",
       "      <td>1b3lc46k28n686708</td>\n",
       "      <td>az</td>\n",
       "      <td>2.8</td>\n",
       "      <td>114458.0</td>\n",
       "      <td>white</td>\n",
       "      <td>gray</td>\n",
       "      <td>aps rent a car &amp; leasing</td>\n",
       "      <td>4125</td>\n",
       "      <td>5400</td>\n",
       "      <td>Thu Mar 05 2015 03:00:00 GMT-0800 (PST)</td>\n",
       "    </tr>\n",
       "  </tbody>\n",
       "</table>\n",
       "<p>100 rows × 16 columns</p>\n",
       "</div>"
      ],
      "text/plain": [
       "    year           make     model                trim       body transmission   \n",
       "0   2006         Nissan    Sentra                 1.8      Sedan       manual  \\\n",
       "1   2012          Acura       MDX  Technology Package        suv          NaN   \n",
       "2   2002          Mazda  Millenia             Premium      Sedan    automatic   \n",
       "3   2006  Mercedes-Benz   E-Class         E350 4MATIC      Sedan    automatic   \n",
       "4   2013            Kia    Optima                  SX      Sedan    automatic   \n",
       "..   ...            ...       ...                 ...        ...          ...   \n",
       "95  2004       cadillac       srx             4x2 suv        NaN    automatic   \n",
       "96  2013         Toyota   Corolla                   L      sedan    automatic   \n",
       "97  2011           Ford     F-150          King Ranch  supercrew    automatic   \n",
       "98  2013      Chevrolet     Cruze                 2LT      sedan    automatic   \n",
       "99  2008          Dodge   Avenger                  SE      Sedan    automatic   \n",
       "\n",
       "                  vin state condition  odometer   color interior   \n",
       "0   3n1cb51d56l548001    mo       1.9   72997.0   black     gray  \\\n",
       "1   2hnyd2h38ch540000    pa       4.4   43637.0    gray    black   \n",
       "2   jm1ta221421726159    wa       2.7  141118.0  silver     gray   \n",
       "3   wdbuf87j26x200132    nj       2.7  119323.0   black    beige   \n",
       "4   5xxgr4a61dg164571    ca       3.4   28080.0   black    black   \n",
       "..                ...   ...       ...       ...     ...      ...   \n",
       "95  1gyee63ax40151815    nc         3  124971.0   white    beige   \n",
       "96  5yfbu4ee3dp145828    fl       4.2   38787.0    gray    beige   \n",
       "97  1ftfw1et7bkd34146    tx       4.1   87247.0   white    brown   \n",
       "98  1g1pe5sb7d7247520    wi       3.4   40422.0  silver    black   \n",
       "99  1b3lc46k28n686708    az       2.8  114458.0   white     gray   \n",
       "\n",
       "                                   seller    mmr  sellingprice   \n",
       "0            first community credit union   4325          1900  \\\n",
       "1                    royal coast auto inc  27300         27600   \n",
       "2                       subaru of spokane   1175          1300   \n",
       "3   credit acceptance corp/vrs/southfield   7100          5000   \n",
       "4                      kia motors finance  20700         21500   \n",
       "..                                    ...    ...           ...   \n",
       "95                 north state acceptance   3225          2700   \n",
       "96                     santander consumer  10550          9800   \n",
       "97                        rlb investments  24700         26200   \n",
       "98                  the hertz corporation  10900         10800   \n",
       "99               aps rent a car & leasing   4125          5400   \n",
       "\n",
       "                                   saledate  \n",
       "0   Tue Mar 10 2015 04:00:00 GMT-0700 (PDT)  \n",
       "1   Fri Jun 05 2015 02:00:00 GMT-0700 (PDT)  \n",
       "2   Wed Jan 21 2015 04:30:00 GMT-0800 (PST)  \n",
       "3   Tue May 26 2015 03:45:00 GMT-0700 (PDT)  \n",
       "4   Tue Jan 13 2015 12:30:00 GMT-0800 (PST)  \n",
       "..                                      ...  \n",
       "95  Tue Jan 06 2015 01:30:00 GMT-0800 (PST)  \n",
       "96  Wed Jun 17 2015 02:05:00 GMT-0700 (PDT)  \n",
       "97  Wed Jun 17 2015 03:20:00 GMT-0700 (PDT)  \n",
       "98  Wed Jun 03 2015 03:00:00 GMT-0700 (PDT)  \n",
       "99  Thu Mar 05 2015 03:00:00 GMT-0800 (PST)  \n",
       "\n",
       "[100 rows x 16 columns]"
      ]
     },
     "execution_count": 4,
     "metadata": {},
     "output_type": "execute_result"
    }
   ],
   "source": [
    "# each time you call this you will get a new slice of the dataframe.\n",
    "next(gen)"
   ]
  },
  {
   "cell_type": "markdown",
   "id": "6b83164d",
   "metadata": {},
   "source": [
    "---\n",
    "# Preprocessing the dataset"
   ]
  },
  {
   "cell_type": "code",
   "execution_count": 5,
   "id": "c4ec3f73",
   "metadata": {},
   "outputs": [],
   "source": [
    "def process_train(df):\n",
    "    '''\n",
    "    This function does preprocessing for train and test datasets.\n",
    "    '''\n",
    "    drop_cols = ['vin', 'saledate']\n",
    "    df.drop(drop_cols, axis = 1, inplace = True)\n",
    "    \n",
    "    df = pd.get_dummies(data = df, columns = ['transmission'], drop_first = True)\n",
    "    \n",
    "    df[['year', 'make', 'model', 'trim', 'body', 'state','condition', 'odometer', 'color', 'interior',  'seller', 'mmr']] = df[['year', 'make', 'model', 'trim', 'body', 'state','condition', 'odometer', 'color', 'interior',  'seller', 'mmr']].apply(encoder.fit_transform)\n",
    "    df.fillna(999, inplace = True)\n",
    "    \n",
    "    return df"
   ]
  },
  {
   "cell_type": "markdown",
   "id": "fd2e5d06",
   "metadata": {},
   "source": [
    "# Building The Model"
   ]
  },
  {
   "cell_type": "code",
   "execution_count": 6,
   "id": "56a413e7",
   "metadata": {},
   "outputs": [],
   "source": [
    "for i in range(18):\n",
    "    new_df = next(gen)\n",
    "    \n",
    "    processed_df = process_train(new_df)\n",
    "    X_train, y_train = processed_df[['year', 'make', 'model', 'trim', 'body', 'state', 'condition', 'odometer', 'color', 'interior', 'seller', 'mmr']], processed_df['sellingprice']\n",
    "    \n",
    "    sgd = SGDRegressor()\n",
    "    sgd.partial_fit(X_train, y_train)"
   ]
  },
  {
   "cell_type": "markdown",
   "id": "d14005ea",
   "metadata": {},
   "source": [
    "# Saving The Model"
   ]
  },
  {
   "cell_type": "code",
   "execution_count": 7,
   "id": "350ae326",
   "metadata": {},
   "outputs": [
    {
     "data": {
      "text/plain": [
       "['sgd.pkl']"
      ]
     },
     "execution_count": 7,
     "metadata": {},
     "output_type": "execute_result"
    }
   ],
   "source": [
    "joblib.dump(sgd, 'sgd.pkl')"
   ]
  },
  {
   "cell_type": "markdown",
   "id": "36ab1c3a",
   "metadata": {},
   "source": [
    "# Testing The Model"
   ]
  },
  {
   "cell_type": "code",
   "execution_count": 8,
   "id": "d0db5e06",
   "metadata": {},
   "outputs": [],
   "source": [
    "sgd = joblib.load('sgd.pkl')"
   ]
  },
  {
   "cell_type": "code",
   "execution_count": 9,
   "id": "db357c65",
   "metadata": {},
   "outputs": [],
   "source": [
    "processed_test = process_train(X_test)"
   ]
  },
  {
   "cell_type": "code",
   "execution_count": 10,
   "id": "c6473820",
   "metadata": {},
   "outputs": [],
   "source": [
    "X_test = processed_test[['year', 'make', 'model', 'trim', 'body', 'state', 'condition', 'odometer', 'color', 'interior', 'seller', 'mmr']]"
   ]
  },
  {
   "cell_type": "code",
   "execution_count": 11,
   "id": "bc208fe7",
   "metadata": {},
   "outputs": [],
   "source": [
    "test_preds = sgd.predict(X_test)"
   ]
  },
  {
   "cell_type": "code",
   "execution_count": 12,
   "id": "f39c2eab",
   "metadata": {},
   "outputs": [
    {
     "data": {
      "text/plain": [
       "1.7906148343616736e+28"
      ]
     },
     "execution_count": 12,
     "metadata": {},
     "output_type": "execute_result"
    }
   ],
   "source": [
    "mean_squared_error(y_test, test_preds)"
   ]
  },
  {
   "cell_type": "code",
   "execution_count": 13,
   "id": "db3e65ef",
   "metadata": {},
   "outputs": [
    {
     "data": {
      "text/html": [
       "<style>#sk-container-id-1 {color: black;background-color: white;}#sk-container-id-1 pre{padding: 0;}#sk-container-id-1 div.sk-toggleable {background-color: white;}#sk-container-id-1 label.sk-toggleable__label {cursor: pointer;display: block;width: 100%;margin-bottom: 0;padding: 0.3em;box-sizing: border-box;text-align: center;}#sk-container-id-1 label.sk-toggleable__label-arrow:before {content: \"▸\";float: left;margin-right: 0.25em;color: #696969;}#sk-container-id-1 label.sk-toggleable__label-arrow:hover:before {color: black;}#sk-container-id-1 div.sk-estimator:hover label.sk-toggleable__label-arrow:before {color: black;}#sk-container-id-1 div.sk-toggleable__content {max-height: 0;max-width: 0;overflow: hidden;text-align: left;background-color: #f0f8ff;}#sk-container-id-1 div.sk-toggleable__content pre {margin: 0.2em;color: black;border-radius: 0.25em;background-color: #f0f8ff;}#sk-container-id-1 input.sk-toggleable__control:checked~div.sk-toggleable__content {max-height: 200px;max-width: 100%;overflow: auto;}#sk-container-id-1 input.sk-toggleable__control:checked~label.sk-toggleable__label-arrow:before {content: \"▾\";}#sk-container-id-1 div.sk-estimator input.sk-toggleable__control:checked~label.sk-toggleable__label {background-color: #d4ebff;}#sk-container-id-1 div.sk-label input.sk-toggleable__control:checked~label.sk-toggleable__label {background-color: #d4ebff;}#sk-container-id-1 input.sk-hidden--visually {border: 0;clip: rect(1px 1px 1px 1px);clip: rect(1px, 1px, 1px, 1px);height: 1px;margin: -1px;overflow: hidden;padding: 0;position: absolute;width: 1px;}#sk-container-id-1 div.sk-estimator {font-family: monospace;background-color: #f0f8ff;border: 1px dotted black;border-radius: 0.25em;box-sizing: border-box;margin-bottom: 0.5em;}#sk-container-id-1 div.sk-estimator:hover {background-color: #d4ebff;}#sk-container-id-1 div.sk-parallel-item::after {content: \"\";width: 100%;border-bottom: 1px solid gray;flex-grow: 1;}#sk-container-id-1 div.sk-label:hover label.sk-toggleable__label {background-color: #d4ebff;}#sk-container-id-1 div.sk-serial::before {content: \"\";position: absolute;border-left: 1px solid gray;box-sizing: border-box;top: 0;bottom: 0;left: 50%;z-index: 0;}#sk-container-id-1 div.sk-serial {display: flex;flex-direction: column;align-items: center;background-color: white;padding-right: 0.2em;padding-left: 0.2em;position: relative;}#sk-container-id-1 div.sk-item {position: relative;z-index: 1;}#sk-container-id-1 div.sk-parallel {display: flex;align-items: stretch;justify-content: center;background-color: white;position: relative;}#sk-container-id-1 div.sk-item::before, #sk-container-id-1 div.sk-parallel-item::before {content: \"\";position: absolute;border-left: 1px solid gray;box-sizing: border-box;top: 0;bottom: 0;left: 50%;z-index: -1;}#sk-container-id-1 div.sk-parallel-item {display: flex;flex-direction: column;z-index: 1;position: relative;background-color: white;}#sk-container-id-1 div.sk-parallel-item:first-child::after {align-self: flex-end;width: 50%;}#sk-container-id-1 div.sk-parallel-item:last-child::after {align-self: flex-start;width: 50%;}#sk-container-id-1 div.sk-parallel-item:only-child::after {width: 0;}#sk-container-id-1 div.sk-dashed-wrapped {border: 1px dashed gray;margin: 0 0.4em 0.5em 0.4em;box-sizing: border-box;padding-bottom: 0.4em;background-color: white;}#sk-container-id-1 div.sk-label label {font-family: monospace;font-weight: bold;display: inline-block;line-height: 1.2em;}#sk-container-id-1 div.sk-label-container {text-align: center;}#sk-container-id-1 div.sk-container {/* jupyter's `normalize.less` sets `[hidden] { display: none; }` but bootstrap.min.css set `[hidden] { display: none !important; }` so we also need the `!important` here to be able to override the default hidden behavior on the sphinx rendered scikit-learn.org. See: https://github.com/scikit-learn/scikit-learn/issues/21755 */display: inline-block !important;position: relative;}#sk-container-id-1 div.sk-text-repr-fallback {display: none;}</style><div id=\"sk-container-id-1\" class=\"sk-top-container\"><div class=\"sk-text-repr-fallback\"><pre>SGDRegressor()</pre><b>In a Jupyter environment, please rerun this cell to show the HTML representation or trust the notebook. <br />On GitHub, the HTML representation is unable to render, please try loading this page with nbviewer.org.</b></div><div class=\"sk-container\" hidden><div class=\"sk-item\"><div class=\"sk-estimator sk-toggleable\"><input class=\"sk-toggleable__control sk-hidden--visually\" id=\"sk-estimator-id-1\" type=\"checkbox\" checked><label for=\"sk-estimator-id-1\" class=\"sk-toggleable__label sk-toggleable__label-arrow\">SGDRegressor</label><div class=\"sk-toggleable__content\"><pre>SGDRegressor()</pre></div></div></div></div></div>"
      ],
      "text/plain": [
       "SGDRegressor()"
      ]
     },
     "execution_count": 13,
     "metadata": {},
     "output_type": "execute_result"
    }
   ],
   "source": [
    "sgd"
   ]
  }
 ],
 "metadata": {
  "kernelspec": {
   "display_name": "Python 3 (ipykernel)",
   "language": "python",
   "name": "python3"
  },
  "language_info": {
   "codemirror_mode": {
    "name": "ipython",
    "version": 3
   },
   "file_extension": ".py",
   "mimetype": "text/x-python",
   "name": "python",
   "nbconvert_exporter": "python",
   "pygments_lexer": "ipython3",
   "version": "3.8.6"
  }
 },
 "nbformat": 4,
 "nbformat_minor": 5
}
