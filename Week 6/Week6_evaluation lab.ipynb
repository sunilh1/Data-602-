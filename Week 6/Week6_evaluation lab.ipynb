{
 "cells": [
  {
   "cell_type": "markdown",
   "id": "0b3c2eb6",
   "metadata": {},
   "source": [
    "# Classifier Evaluation Lab\n",
    "\n",
    "* Copy&paste your model for homework5 model\n",
    "* Add grid search and train\n",
    "* Compare performance\n",
    "* Which one is better? Explain?"
   ]
  },
  {
   "cell_type": "code",
   "execution_count": 2,
   "id": "8c03dd9a",
   "metadata": {},
   "outputs": [
    {
     "data": {
      "text/html": [
       "<div>\n",
       "<style scoped>\n",
       "    .dataframe tbody tr th:only-of-type {\n",
       "        vertical-align: middle;\n",
       "    }\n",
       "\n",
       "    .dataframe tbody tr th {\n",
       "        vertical-align: top;\n",
       "    }\n",
       "\n",
       "    .dataframe thead th {\n",
       "        text-align: right;\n",
       "    }\n",
       "</style>\n",
       "<table border=\"1\" class=\"dataframe\">\n",
       "  <thead>\n",
       "    <tr style=\"text-align: right;\">\n",
       "      <th></th>\n",
       "      <th>left_company</th>\n",
       "      <th>age</th>\n",
       "      <th>frequency_of_travel</th>\n",
       "      <th>department</th>\n",
       "      <th>commuting_distance</th>\n",
       "      <th>education</th>\n",
       "      <th>satisfaction_with_environment</th>\n",
       "      <th>gender</th>\n",
       "      <th>seniority_level</th>\n",
       "      <th>position</th>\n",
       "      <th>satisfaction_with_job</th>\n",
       "      <th>married_or_single</th>\n",
       "      <th>last_raise_pct</th>\n",
       "      <th>last_performance_rating</th>\n",
       "      <th>total_years_working</th>\n",
       "      <th>years_at_company</th>\n",
       "      <th>years_in_current_job</th>\n",
       "      <th>years_since_last_promotion</th>\n",
       "      <th>years_with_current_supervisor</th>\n",
       "    </tr>\n",
       "  </thead>\n",
       "  <tbody>\n",
       "    <tr>\n",
       "      <th>0</th>\n",
       "      <td>No</td>\n",
       "      <td>37</td>\n",
       "      <td>Travel_Rarely</td>\n",
       "      <td>Sales</td>\n",
       "      <td>16</td>\n",
       "      <td>4</td>\n",
       "      <td>4</td>\n",
       "      <td>Male</td>\n",
       "      <td>2</td>\n",
       "      <td>Sales Executive</td>\n",
       "      <td>3</td>\n",
       "      <td>Divorced</td>\n",
       "      <td>19</td>\n",
       "      <td>3</td>\n",
       "      <td>9</td>\n",
       "      <td>1</td>\n",
       "      <td>0</td>\n",
       "      <td>0</td>\n",
       "      <td>0</td>\n",
       "    </tr>\n",
       "    <tr>\n",
       "      <th>1</th>\n",
       "      <td>No</td>\n",
       "      <td>39</td>\n",
       "      <td>Travel_Rarely</td>\n",
       "      <td>Research &amp; Development</td>\n",
       "      <td>3</td>\n",
       "      <td>2</td>\n",
       "      <td>3</td>\n",
       "      <td>Male</td>\n",
       "      <td>2</td>\n",
       "      <td>Laboratory Technician</td>\n",
       "      <td>3</td>\n",
       "      <td>Divorced</td>\n",
       "      <td>15</td>\n",
       "      <td>3</td>\n",
       "      <td>11</td>\n",
       "      <td>10</td>\n",
       "      <td>8</td>\n",
       "      <td>0</td>\n",
       "      <td>7</td>\n",
       "    </tr>\n",
       "    <tr>\n",
       "      <th>2</th>\n",
       "      <td>No</td>\n",
       "      <td>52</td>\n",
       "      <td>Travel_Frequently</td>\n",
       "      <td>Research &amp; Development</td>\n",
       "      <td>25</td>\n",
       "      <td>4</td>\n",
       "      <td>3</td>\n",
       "      <td>Female</td>\n",
       "      <td>4</td>\n",
       "      <td>Manufacturing Director</td>\n",
       "      <td>4</td>\n",
       "      <td>Married</td>\n",
       "      <td>22</td>\n",
       "      <td>4</td>\n",
       "      <td>31</td>\n",
       "      <td>9</td>\n",
       "      <td>8</td>\n",
       "      <td>0</td>\n",
       "      <td>0</td>\n",
       "    </tr>\n",
       "    <tr>\n",
       "      <th>3</th>\n",
       "      <td>No</td>\n",
       "      <td>50</td>\n",
       "      <td>Non-Travel</td>\n",
       "      <td>Sales</td>\n",
       "      <td>1</td>\n",
       "      <td>3</td>\n",
       "      <td>4</td>\n",
       "      <td>Female</td>\n",
       "      <td>2</td>\n",
       "      <td>Sales Executive</td>\n",
       "      <td>3</td>\n",
       "      <td>Married</td>\n",
       "      <td>12</td>\n",
       "      <td>3</td>\n",
       "      <td>19</td>\n",
       "      <td>18</td>\n",
       "      <td>7</td>\n",
       "      <td>0</td>\n",
       "      <td>13</td>\n",
       "    </tr>\n",
       "    <tr>\n",
       "      <th>4</th>\n",
       "      <td>No</td>\n",
       "      <td>44</td>\n",
       "      <td>Travel_Rarely</td>\n",
       "      <td>Research &amp; Development</td>\n",
       "      <td>4</td>\n",
       "      <td>3</td>\n",
       "      <td>4</td>\n",
       "      <td>Male</td>\n",
       "      <td>2</td>\n",
       "      <td>Healthcare Representative</td>\n",
       "      <td>2</td>\n",
       "      <td>Single</td>\n",
       "      <td>12</td>\n",
       "      <td>3</td>\n",
       "      <td>10</td>\n",
       "      <td>5</td>\n",
       "      <td>2</td>\n",
       "      <td>2</td>\n",
       "      <td>3</td>\n",
       "    </tr>\n",
       "  </tbody>\n",
       "</table>\n",
       "</div>"
      ],
      "text/plain": [
       "  left_company  age frequency_of_travel              department  \\\n",
       "0           No   37       Travel_Rarely                   Sales   \n",
       "1           No   39       Travel_Rarely  Research & Development   \n",
       "2           No   52   Travel_Frequently  Research & Development   \n",
       "3           No   50          Non-Travel                   Sales   \n",
       "4           No   44       Travel_Rarely  Research & Development   \n",
       "\n",
       "   commuting_distance  education  satisfaction_with_environment  gender  \\\n",
       "0                  16          4                              4    Male   \n",
       "1                   3          2                              3    Male   \n",
       "2                  25          4                              3  Female   \n",
       "3                   1          3                              4  Female   \n",
       "4                   4          3                              4    Male   \n",
       "\n",
       "   seniority_level                   position  satisfaction_with_job  \\\n",
       "0                2            Sales Executive                      3   \n",
       "1                2      Laboratory Technician                      3   \n",
       "2                4     Manufacturing Director                      4   \n",
       "3                2            Sales Executive                      3   \n",
       "4                2  Healthcare Representative                      2   \n",
       "\n",
       "  married_or_single  last_raise_pct  last_performance_rating  \\\n",
       "0          Divorced              19                        3   \n",
       "1          Divorced              15                        3   \n",
       "2           Married              22                        4   \n",
       "3           Married              12                        3   \n",
       "4            Single              12                        3   \n",
       "\n",
       "   total_years_working  years_at_company  years_in_current_job  \\\n",
       "0                    9                 1                     0   \n",
       "1                   11                10                     8   \n",
       "2                   31                 9                     8   \n",
       "3                   19                18                     7   \n",
       "4                   10                 5                     2   \n",
       "\n",
       "   years_since_last_promotion  years_with_current_supervisor  \n",
       "0                           0                              0  \n",
       "1                           0                              7  \n",
       "2                           0                              0  \n",
       "3                           0                             13  \n",
       "4                           2                              3  "
      ]
     },
     "execution_count": 2,
     "metadata": {},
     "output_type": "execute_result"
    }
   ],
   "source": [
    "import pandas as pd\n",
    "import numpy as np\n",
    "import matplotlib.pyplot as plt\n",
    "%matplotlib inline\n",
    "\n",
    "df = pd.read_csv('https://raw.githubusercontent.com/msaricaumbc/DS_data/master/ds602/log_reg/employee-turnover-balanced.csv')\n",
    "df.head()"
   ]
  },
  {
   "cell_type": "code",
   "execution_count": 3,
   "id": "818bdb44",
   "metadata": {},
   "outputs": [],
   "source": [
    "# Creating numerical and categorical variabble\n",
    "\n",
    "numerical_vars = ['age','commuting_distance', 'satisfaction_with_environment', 'last_raise_pct', 'last_performance_rating',\n",
    "       'total_years_working', 'years_at_company', 'years_in_current_job',\n",
    "       'years_since_last_promotion', 'years_with_current_supervisor']\n",
    "\n",
    "categorical_Vars = [col for col in df.columns if col not in ['left_company'] + numerical_vars]\n"
   ]
  },
  {
   "cell_type": "code",
   "execution_count": 4,
   "id": "972969f3",
   "metadata": {},
   "outputs": [
    {
     "name": "stdout",
     "output_type": "stream",
     "text": [
      "Numerical Variables: \n",
      " ['age', 'commuting_distance', 'satisfaction_with_environment', 'last_raise_pct', 'last_performance_rating', 'total_years_working', 'years_at_company', 'years_in_current_job', 'years_since_last_promotion', 'years_with_current_supervisor']\n",
      "\n",
      "Categorical Variables: \n",
      " ['frequency_of_travel', 'department', 'education', 'gender', 'seniority_level', 'position', 'satisfaction_with_job', 'married_or_single']\n"
     ]
    }
   ],
   "source": [
    "print(f\"Numerical Variables: \\n {numerical_vars}\")\n",
    "print()\n",
    "print(f\"Categorical Variables: \\n {categorical_Vars}\")"
   ]
  },
  {
   "cell_type": "code",
   "execution_count": 5,
   "id": "b7e0c3bc",
   "metadata": {},
   "outputs": [
    {
     "data": {
      "text/plain": [
       "<AxesSubplot:>"
      ]
     },
     "execution_count": 5,
     "metadata": {},
     "output_type": "execute_result"
    },
    {
     "data": {
      "image/png": "[encoded data removed]",
      "text/plain": [
       "<Figure size 1440x1440 with 2 Axes>"
      ]
     },
     "metadata": {
      "needs_background": "light"
     },
     "output_type": "display_data"
    }
   ],
   "source": [
    "import matplotlib.pyplot as plt\n",
    "import seaborn as sns\n",
    "corr = df[numerical_vars].corr()\n",
    "\n",
    "plt.figure(figsize = (20, 20))\n",
    "sns.heatmap(data = corr, square=True, annot = True)"
   ]
  },
  {
   "cell_type": "code",
   "execution_count": 11,
   "id": "a727fde3",
   "metadata": {},
   "outputs": [],
   "source": [
    "#Importing necessary libraries \n",
    "import pandas as pd\n",
    "from sklearn.model_selection import train_test_split\n",
    "import seaborn as sns\n",
    "\n",
    "import matplotlib\n",
    "from sklearn.pipeline import Pipeline\n",
    "from sklearn.compose import ColumnTransformer\n",
    "from sklearn.impute import SimpleImputer\n",
    "from sklearn.preprocessing import OneHotEncoder, StandardScaler\n",
    "\n",
    "from sklearn.linear_model import LogisticRegression\n",
    "from sklearn.metrics import accuracy_score\n",
    "import matplotlib.pyplot as plt\n",
    "from sklearn.linear_model import Ridge\n"
   ]
  },
  {
   "cell_type": "code",
   "execution_count": 12,
   "id": "c7317132",
   "metadata": {},
   "outputs": [
    {
     "name": "stdout",
     "output_type": "stream",
     "text": [
      "Records in training data: 800\n",
      "Records in test data: 200\n",
      "\n",
      "Features:\n",
      "age\n",
      "frequency_of_travel\n",
      "department\n",
      "commuting_distance\n",
      "education\n",
      "satisfaction_with_environment\n",
      "gender\n",
      "seniority_level\n",
      "position\n",
      "satisfaction_with_job\n",
      "married_or_single\n",
      "last_raise_pct\n",
      "last_performance_rating\n",
      "total_years_working\n",
      "years_at_company\n",
      "years_in_current_job\n",
      "years_since_last_promotion\n",
      "years_with_current_supervisor\n"
     ]
    }
   ],
   "source": [
    "features = [x for x in df.columns if x != 'left_company'] # Creating a features list\n",
    "\n",
    "X = df[features]\n",
    "y = df['left_company']\n",
    "\n",
    "X_train, X_test, y_train, y_test = train_test_split(X, y, test_size=0.2, random_state=124) # train test split\n",
    "\n",
    "print(f'Records in training data: {X_train.shape[0]:,}')\n",
    "print(f'Records in test data: {X_test.shape[0]:,}')\n",
    "print('\\nFeatures:')\n",
    "print(*X_train.columns, sep='\\n')"
   ]
  },
  {
   "cell_type": "code",
   "execution_count": 13,
   "id": "2177119c",
   "metadata": {},
   "outputs": [],
   "source": [
    "# num pipeline\n",
    "num_pipeline = Pipeline( [('imputer missing', SimpleImputer(strategy='median')),\n",
    "                         ('standardize', StandardScaler())])\n",
    "\n",
    "# cat pipeline\n",
    "cat_pipeline = Pipeline([('imputer missing', SimpleImputer(strategy='most_frequent')),\n",
    "                         ('one hot encoding', OneHotEncoder( drop = 'first'))])\n",
    "\n",
    "# combining pipelines\n",
    "ct = ColumnTransformer(transformers=[('num_features', num_pipeline, numerical_vars), \n",
    "                                     ('cat_features', cat_pipeline, categorical_Vars)])\n",
    "data = ct.fit_transform(X_train)"
   ]
  },
  {
   "cell_type": "code",
   "execution_count": 14,
   "id": "7bc36758",
   "metadata": {},
   "outputs": [
    {
     "data": {
      "text/plain": [
       "(800, 36)"
      ]
     },
     "execution_count": 14,
     "metadata": {},
     "output_type": "execute_result"
    }
   ],
   "source": [
    "data.shape"
   ]
  },
  {
   "cell_type": "code",
   "execution_count": 15,
   "id": "2eb5a6ad",
   "metadata": {},
   "outputs": [
    {
     "data": {
      "text/plain": [
       "Pipeline(steps=[('data_preprocessing',\n",
       "                 ColumnTransformer(transformers=[('num_features',\n",
       "                                                  Pipeline(steps=[('imputer '\n",
       "                                                                   'missing',\n",
       "                                                                   SimpleImputer(strategy='median')),\n",
       "                                                                  ('standardize',\n",
       "                                                                   StandardScaler())]),\n",
       "                                                  ['age', 'commuting_distance',\n",
       "                                                   'satisfaction_with_environment',\n",
       "                                                   'last_raise_pct',\n",
       "                                                   'last_performance_rating',\n",
       "                                                   'total_years_working',\n",
       "                                                   'years_at_company',\n",
       "                                                   'years_in_curre...\n",
       "                                                   'years_since_last_promotion',\n",
       "                                                   'years_with_current_supervisor']),\n",
       "                                                 ('cat_features',\n",
       "                                                  Pipeline(steps=[('imputer '\n",
       "                                                                   'missing',\n",
       "                                                                   SimpleImputer(strategy='most_frequent')),\n",
       "                                                                  ('one hot '\n",
       "                                                                   'encoding',\n",
       "                                                                   OneHotEncoder(drop='first'))]),\n",
       "                                                  ['frequency_of_travel',\n",
       "                                                   'department', 'education',\n",
       "                                                   'gender', 'seniority_level',\n",
       "                                                   'position',\n",
       "                                                   'satisfaction_with_job',\n",
       "                                                   'married_or_single'])])),\n",
       "                ('Model', LogisticRegression())])"
      ]
     },
     "execution_count": 15,
     "metadata": {},
     "output_type": "execute_result"
    }
   ],
   "source": [
    "# procesing_pipeline\n",
    "procesing_pipeline = ColumnTransformer(transformers=[('num_features', num_pipeline, numerical_vars),\n",
    "                                                    ('cat_features', cat_pipeline, categorical_Vars),])\n",
    "\n",
    "# modelling pipeline\n",
    "modeling_pipeline = Pipeline([('data_preprocessing', procesing_pipeline),\n",
    "                             ('Model', LogisticRegression())])\n",
    "\n",
    "modeling_pipeline.fit(X_train, y_train)"
   ]
  },
  {
   "cell_type": "code",
   "execution_count": 16,
   "id": "12b3fb86",
   "metadata": {},
   "outputs": [
    {
     "name": "stdout",
     "output_type": "stream",
     "text": [
      "Accuracy is: \n"
     ]
    },
    {
     "data": {
      "text/plain": [
       "0.74875"
      ]
     },
     "execution_count": 16,
     "metadata": {},
     "output_type": "execute_result"
    }
   ],
   "source": [
    "# Predicting on training set\n",
    "\n",
    "training_preds = modeling_pipeline.predict(X_train)\n",
    "\n",
    "print('Accuracy is: ')\n",
    "accuracy_score(training_preds, y_train)"
   ]
  },
  {
   "cell_type": "code",
   "execution_count": 17,
   "id": "2a641646",
   "metadata": {},
   "outputs": [
    {
     "name": "stdout",
     "output_type": "stream",
     "text": [
      "Accuracy is: \n"
     ]
    },
    {
     "data": {
      "text/plain": [
       "0.715"
      ]
     },
     "execution_count": 17,
     "metadata": {},
     "output_type": "execute_result"
    }
   ],
   "source": [
    "# Predicting on test set\n",
    "\n",
    "testing_preds = modeling_pipeline.predict(X_test)\n",
    "\n",
    "print('Accuracy is: ')\n",
    "accuracy_score(testing_preds, y_test)"
   ]
  },
  {
   "cell_type": "code",
   "execution_count": 20,
   "id": "e7165dd2",
   "metadata": {},
   "outputs": [],
   "source": [
    "#Adding grid search and train\n",
    "from sklearn.model_selection import GridSearchCV"
   ]
  },
  {
   "cell_type": "code",
   "execution_count": null,
   "id": "5287af2e",
   "metadata": {},
   "outputs": [],
   "source": [
    "# modelling pipeline \n",
    "modeling_pipeline = Pipeline([('data_preprocessing', procesing_pipeline),\n",
    "                             ('Model', LogisticRegression())])\n",
    "\n",
    "modeling_pipeline.fit(X_train, y_train)"
   ]
  },
  {
   "cell_type": "code",
   "execution_count": 28,
   "id": "d48cbc77",
   "metadata": {},
   "outputs": [],
   "source": [
    "from sklearn.pipeline import Pipeline\n",
    "from sklearn.preprocessing import StandardScaler\n",
    "from sklearn.decomposition import PCA\n",
    "from sklearn.linear_model import LogisticRegression\n",
    "\n",
    "lg_pipe = modeling_pipeline = Pipeline([\n",
    "    ('data_preprocessing', procesing_pipeline),\n",
    "        ('scaler', StandardScaler()),\n",
    "         ('pca', PCA(n_components=5)),\n",
    "         ('logreg', LogisticRegression(penalty='l2', solver='liblinear'))\n",
    "        ]\n",
    "    )\n",
    "\n",
    "\n",
    "from sklearn.model_selection import GridSearchCV\n",
    "\n",
    "param_grid = [\n",
    "  {\n",
    "    'logreg__C': [1, 10, 100, 1000], \n",
    "    'pca__n_components': [1,2,3,4,5,10,15]\n",
    "  }\n",
    " ]\n",
    "\n",
    "gcv_results = GridSearchCV(estimator=lg_pipe, param_grid=param_grid, scoring='accuracy')\n",
    "gcv_results = gcv_results.fit(X_train, y_train)"
   ]
  },
  {
   "cell_type": "code",
   "execution_count": 30,
   "id": "1e82703b",
   "metadata": {},
   "outputs": [
    {
     "data": {
      "text/plain": [
       "0.6849999999999999"
      ]
     },
     "execution_count": 30,
     "metadata": {},
     "output_type": "execute_result"
    }
   ],
   "source": [
    "gcv_results.best_score_"
   ]
  },
  {
   "cell_type": "markdown",
   "id": "30a62274",
   "metadata": {},
   "source": [
    "3.comparing performance :\n",
    "\n",
    "Predicting on training set Accuracy is: 0.74875\n",
    "Predicting on test set Accuracy is: 0.715\n",
    "gcv_results.best_score_ 0.6849999999999999\n",
    "\n"
   ]
  },
  {
   "cell_type": "markdown",
   "id": "365bd6c9",
   "metadata": {},
   "source": [
    "4.Which one is better?\n",
    "\n",
    "Overall, the model appears to perform reasonably well on both the training and test sets, with slightly better performance on the training set. \n",
    "\n",
    "\n",
    "The model's accuracy on the training set is 0.74875, which means that the model correctly predicted 74.875% of the samples in the training set.\n",
    "The model's accuracy on the test set is 0.715, which means that the model correctly predicted 71.5% of the samples in the test set.\n",
    "The gcv_results.best_score_ value of 0.6849999999999999 indicates the best cross-validated score achieved during the grid search. "
   ]
  }
 ],
 "metadata": {
  "kernelspec": {
   "display_name": "Python 3 (ipykernel)",
   "language": "python",
   "name": "python3"
  },
  "language_info": {
   "codemirror_mode": {
    "name": "ipython",
    "version": 3
   },
   "file_extension": ".py",
   "mimetype": "text/x-python",
   "name": "python",
   "nbconvert_exporter": "python",
   "pygments_lexer": "ipython3",
   "version": "3.9.12"
  },
  "toc": {
   "base_numbering": 1,
   "nav_menu": {},
   "number_sections": false,
   "sideBar": true,
   "skip_h1_title": false,
   "title_cell": "Table of Contents",
   "title_sidebar": "Contents",
   "toc_cell": false,
   "toc_position": {},
   "toc_section_display": true,
   "toc_window_display": false
  }
 },
 "nbformat": 4,
 "nbformat_minor": 5
}
