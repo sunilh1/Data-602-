{
 "cells": [
  {
   "cell_type": "markdown",
   "id": "26461067",
   "metadata": {},
   "source": [
    "# Importing Libraries"
   ]
  },
  {
   "cell_type": "code",
   "execution_count": 1,
   "id": "8744bb00",
   "metadata": {},
   "outputs": [],
   "source": [
    "import pandas as pd\n",
    "import numpy as np\n",
    "\n",
    "import re\n",
    "from nltk.tokenize import word_tokenize\n",
    "from nltk.corpus import stopwords\n",
    "from nltk.stem import PorterStemmer, WordNetLemmatizer\n",
    "from sklearn.feature_extraction.text import TfidfVectorizer, CountVectorizer, TfidfTransformer\n",
    "from sklearn.decomposition import TruncatedSVD\n",
    "from sklearn.pipeline import Pipeline\n",
    "from sklearn.cluster import KMeans\n",
    "from sklearn.metrics import silhouette_score\n",
    "from sklearn.decomposition import PCA\n",
    "\n",
    "from sklearn.linear_model import LogisticRegression\n",
    "from sklearn.metrics import accuracy_score, classification_report\n",
    "\n",
    "from lightgbm import LGBMClassifier\n",
    "from sklearn.tree import DecisionTreeClassifier\n",
    "from sklearn.model_selection import StratifiedKFold\n",
    "\n",
    "from sklearn.model_selection import GridSearchCV\n",
    "\n",
    "from sklearn.model_selection import train_test_split\n",
    "\n",
    "from sklearn.linear_model import LogisticRegression\n",
    "from sklearn.metrics import accuracy_score\n",
    "\n",
    "import matplotlib.pyplot as plt\n",
    "\n",
    "import warnings\n",
    "warnings.filterwarnings(\"ignore\")"
   ]
  },
  {
   "cell_type": "markdown",
   "id": "32653633",
   "metadata": {},
   "source": [
    "# Reading the data"
   ]
  },
  {
   "cell_type": "code",
   "execution_count": 2,
   "id": "ec0e1bd5",
   "metadata": {},
   "outputs": [],
   "source": [
    "# train\n",
    "train = pd.read_csv(r\"https://raw.githubusercontent.com/msaricaumbc/DS_data/master/ds602/final/X_train.csv\")\n",
    "\n",
    "# y_train\n",
    "true_labels = pd.read_csv(r\"https://raw.githubusercontent.com/msaricaumbc/DS_data/master/ds602/final/y_train.csv\")\n",
    "\n",
    "# test\n",
    "test = pd.read_csv(r\"https://raw.githubusercontent.com/msaricaumbc/DS_data/master/ds602/final/X_final.csv\")\n",
    "\n",
    "# y_test\n",
    "test_labels = pd.read_csv(r\"https://raw.githubusercontent.com/msaricaumbc/DS_data/master/ds602/final/y_final.csv\")"
   ]
  },
  {
   "cell_type": "code",
   "execution_count": 3,
   "id": "e54193e8",
   "metadata": {
    "scrolled": false
   },
   "outputs": [
    {
     "data": {
      "text/html": [
       "<div>\n",
       "<style scoped>\n",
       "    .dataframe tbody tr th:only-of-type {\n",
       "        vertical-align: middle;\n",
       "    }\n",
       "\n",
       "    .dataframe tbody tr th {\n",
       "        vertical-align: top;\n",
       "    }\n",
       "\n",
       "    .dataframe thead th {\n",
       "        text-align: right;\n",
       "    }\n",
       "</style>\n",
       "<table border=\"1\" class=\"dataframe\">\n",
       "  <thead>\n",
       "    <tr style=\"text-align: right;\">\n",
       "      <th></th>\n",
       "      <th>review</th>\n",
       "    </tr>\n",
       "  </thead>\n",
       "  <tbody>\n",
       "    <tr>\n",
       "      <th>0</th>\n",
       "      <td>Shame, is a Swedish film in Swedish with Engli...</td>\n",
       "    </tr>\n",
       "    <tr>\n",
       "      <th>1</th>\n",
       "      <td>I know it's rather unfair to comment on a movi...</td>\n",
       "    </tr>\n",
       "    <tr>\n",
       "      <th>2</th>\n",
       "      <td>\"Bread\" very sharply skewers the conventions o...</td>\n",
       "    </tr>\n",
       "    <tr>\n",
       "      <th>3</th>\n",
       "      <td>After reading tons of good reviews about this ...</td>\n",
       "    </tr>\n",
       "    <tr>\n",
       "      <th>4</th>\n",
       "      <td>During the Civil war a wounded union soldier h...</td>\n",
       "    </tr>\n",
       "  </tbody>\n",
       "</table>\n",
       "</div>"
      ],
      "text/plain": [
       "                                              review\n",
       "0  Shame, is a Swedish film in Swedish with Engli...\n",
       "1  I know it's rather unfair to comment on a movi...\n",
       "2  \"Bread\" very sharply skewers the conventions o...\n",
       "3  After reading tons of good reviews about this ...\n",
       "4  During the Civil war a wounded union soldier h..."
      ]
     },
     "execution_count": 3,
     "metadata": {},
     "output_type": "execute_result"
    }
   ],
   "source": [
    "train.head()"
   ]
  },
  {
   "cell_type": "markdown",
   "id": "72269369",
   "metadata": {},
   "source": [
    "### Fetching true labels for some observations in the train set\n",
    "\n",
    "**We are fetching 10% of the true labels from the true labels**"
   ]
  },
  {
   "cell_type": "code",
   "execution_count": 4,
   "id": "a5da7d90",
   "metadata": {},
   "outputs": [],
   "source": [
    "size = int(0.10 * train.shape[0]) # percentage to fetch\n",
    "\n",
    "index = np.random.choice(range(true_labels.shape[0]), size, replace = False)\n",
    "index.sort()"
   ]
  },
  {
   "cell_type": "code",
   "execution_count": 5,
   "id": "c2a8cf16",
   "metadata": {},
   "outputs": [],
   "source": [
    "target = []\n",
    "for i in index:\n",
    "    target.append(true_labels.iloc[i]['sentiment'])"
   ]
  },
  {
   "cell_type": "code",
   "execution_count": 6,
   "id": "4c15e26a",
   "metadata": {},
   "outputs": [],
   "source": [
    "train['target'] = None\n",
    "train.loc[index,'target'] = target"
   ]
  },
  {
   "cell_type": "code",
   "execution_count": 7,
   "id": "d725485f",
   "metadata": {},
   "outputs": [
    {
     "data": {
      "text/html": [
       "<div>\n",
       "<style scoped>\n",
       "    .dataframe tbody tr th:only-of-type {\n",
       "        vertical-align: middle;\n",
       "    }\n",
       "\n",
       "    .dataframe tbody tr th {\n",
       "        vertical-align: top;\n",
       "    }\n",
       "\n",
       "    .dataframe thead th {\n",
       "        text-align: right;\n",
       "    }\n",
       "</style>\n",
       "<table border=\"1\" class=\"dataframe\">\n",
       "  <thead>\n",
       "    <tr style=\"text-align: right;\">\n",
       "      <th></th>\n",
       "      <th>review</th>\n",
       "      <th>target</th>\n",
       "    </tr>\n",
       "  </thead>\n",
       "  <tbody>\n",
       "    <tr>\n",
       "      <th>0</th>\n",
       "      <td>Shame, is a Swedish film in Swedish with Engli...</td>\n",
       "      <td>None</td>\n",
       "    </tr>\n",
       "    <tr>\n",
       "      <th>1</th>\n",
       "      <td>I know it's rather unfair to comment on a movi...</td>\n",
       "      <td>0</td>\n",
       "    </tr>\n",
       "    <tr>\n",
       "      <th>2</th>\n",
       "      <td>\"Bread\" very sharply skewers the conventions o...</td>\n",
       "      <td>None</td>\n",
       "    </tr>\n",
       "    <tr>\n",
       "      <th>3</th>\n",
       "      <td>After reading tons of good reviews about this ...</td>\n",
       "      <td>None</td>\n",
       "    </tr>\n",
       "    <tr>\n",
       "      <th>4</th>\n",
       "      <td>During the Civil war a wounded union soldier h...</td>\n",
       "      <td>None</td>\n",
       "    </tr>\n",
       "  </tbody>\n",
       "</table>\n",
       "</div>"
      ],
      "text/plain": [
       "                                              review target\n",
       "0  Shame, is a Swedish film in Swedish with Engli...   None\n",
       "1  I know it's rather unfair to comment on a movi...      0\n",
       "2  \"Bread\" very sharply skewers the conventions o...   None\n",
       "3  After reading tons of good reviews about this ...   None\n",
       "4  During the Civil war a wounded union soldier h...   None"
      ]
     },
     "execution_count": 7,
     "metadata": {},
     "output_type": "execute_result"
    }
   ],
   "source": [
    "train.head()"
   ]
  },
  {
   "cell_type": "code",
   "execution_count": 8,
   "id": "9260d37e",
   "metadata": {},
   "outputs": [
    {
     "data": {
      "text/plain": [
       "target\n",
       "1    2021\n",
       "0    1979\n",
       "Name: count, dtype: int64"
      ]
     },
     "execution_count": 8,
     "metadata": {},
     "output_type": "execute_result"
    }
   ],
   "source": [
    "# Sanity check\n",
    "\n",
    "train['target'].value_counts()"
   ]
  },
  {
   "cell_type": "markdown",
   "id": "5e83151b",
   "metadata": {},
   "source": [
    "---\n",
    "# Data Preprocessing"
   ]
  },
  {
   "cell_type": "markdown",
   "id": "d6f92b4a",
   "metadata": {},
   "source": [
    "### 1. Text Cleaning\n",
    "\n",
    "**Removing any unnecessary characters, such as punctuation marks or special symbols, and convert the text to lowercase for consistency.**"
   ]
  },
  {
   "cell_type": "code",
   "execution_count": 9,
   "id": "0927125b",
   "metadata": {},
   "outputs": [],
   "source": [
    "def text_cleaning(text):\n",
    "    clean_text = re.sub(r'[^\\w\\s]', '', text)  # Removing the punctuation\n",
    "    clean_text = clean_text.lower()  # Converting lowercase\n",
    "    return clean_text"
   ]
  },
  {
   "cell_type": "markdown",
   "id": "79d1f902",
   "metadata": {},
   "source": [
    "### 2. Tokenization\n",
    "\n",
    "**Spliting the text into individual words. This step is essential for further analysis and feature extraction.**"
   ]
  },
  {
   "cell_type": "code",
   "execution_count": 10,
   "id": "57d1bdd2",
   "metadata": {},
   "outputs": [],
   "source": [
    "def tokenize(text):\n",
    "    token = word_tokenize(text)\n",
    "    return token"
   ]
  },
  {
   "cell_type": "markdown",
   "id": "467bb0e9",
   "metadata": {},
   "source": [
    "### 3. Stop Word Removal\n",
    "**Removing common words that do not carry significant meaning, such as \"and,\" \"the,\" or \"is.\" These words can be excluded from the analysis to reduce noise in the data.**"
   ]
  },
  {
   "cell_type": "code",
   "execution_count": 11,
   "id": "3fb00191",
   "metadata": {},
   "outputs": [],
   "source": [
    "def remove_stopwords(tokens):\n",
    "    stop_words = set(stopwords.words('english'))\n",
    "    filtered_tokens = [token for token in tokens if token not in stop_words]\n",
    "    return filtered_tokens"
   ]
  },
  {
   "cell_type": "markdown",
   "id": "e0a9e242",
   "metadata": {},
   "source": [
    "### 4. Stemming and Lemmatization\n",
    "\n",
    "**Stemming or Lemmatization: Reduce words to their base form to handle different variations of the same word. Stemming involves removing word suffixes, while lemmatization converts words to their dictionary form.**"
   ]
  },
  {
   "cell_type": "code",
   "execution_count": 12,
   "id": "a8da23f9",
   "metadata": {},
   "outputs": [],
   "source": [
    "def stemming(tokens):\n",
    "    stemmer = PorterStemmer()\n",
    "    stemmed_tokens = [stemmer.stem(token) for token in tokens]\n",
    "    return stemmed_tokens"
   ]
  },
  {
   "cell_type": "code",
   "execution_count": 13,
   "id": "325008b3",
   "metadata": {},
   "outputs": [],
   "source": [
    "def lemmatization(tokens):\n",
    "    lemmatizer = WordNetLemmatizer()\n",
    "    lemmatized_tokens = [lemmatizer.lemmatize(token) for token in tokens]\n",
    "    return lemmatized_tokens"
   ]
  },
  {
   "cell_type": "markdown",
   "id": "236d69bd",
   "metadata": {},
   "source": [
    "---\n",
    "## Processing Train Dataset\n",
    "\n",
    "**Here we will perform the preprocessing on train dataset. Once the preprocessing is done we will again split the datasets**"
   ]
  },
  {
   "cell_type": "code",
   "execution_count": 14,
   "id": "25d15708",
   "metadata": {},
   "outputs": [
    {
     "name": "stdout",
     "output_type": "stream",
     "text": [
      "CPU times: total: 1min 58s\n",
      "Wall time: 1min 58s\n"
     ]
    }
   ],
   "source": [
    "%%time\n",
    "\n",
    "# Text Cleaning\n",
    "train['review'] = train['review'].apply(lambda x: text_cleaning(x))\n",
    "\n",
    "# Tokenizing\n",
    "train['review'] = train['review'].apply(lambda x: tokenize(x))\n",
    "\n",
    "# Stop Words Removal\n",
    "train['review'] = train['review'].apply(lambda x: remove_stopwords(x))\n",
    "\n",
    "# Stemming\n",
    "train['review'] = train['review'].apply(lambda x: stemming(x))\n",
    "\n",
    "# Lemmatization\n",
    "train['review'] = train['review'].apply(lambda x: lemmatization(x))\n",
    "\n",
    "# Joining the text\n",
    "train['review'] = train['review'].apply(lambda x: ' '.join(x))"
   ]
  },
  {
   "cell_type": "code",
   "execution_count": 15,
   "id": "4d6d4840",
   "metadata": {},
   "outputs": [
    {
     "data": {
      "text/html": [
       "<div>\n",
       "<style scoped>\n",
       "    .dataframe tbody tr th:only-of-type {\n",
       "        vertical-align: middle;\n",
       "    }\n",
       "\n",
       "    .dataframe tbody tr th {\n",
       "        vertical-align: top;\n",
       "    }\n",
       "\n",
       "    .dataframe thead th {\n",
       "        text-align: right;\n",
       "    }\n",
       "</style>\n",
       "<table border=\"1\" class=\"dataframe\">\n",
       "  <thead>\n",
       "    <tr style=\"text-align: right;\">\n",
       "      <th></th>\n",
       "      <th>review</th>\n",
       "      <th>target</th>\n",
       "    </tr>\n",
       "  </thead>\n",
       "  <tbody>\n",
       "    <tr>\n",
       "      <th>0</th>\n",
       "      <td>shame swedish film swedish english subtitl fil...</td>\n",
       "      <td>None</td>\n",
       "    </tr>\n",
       "    <tr>\n",
       "      <th>1</th>\n",
       "      <td>know rather unfair comment movi without see co...</td>\n",
       "      <td>0</td>\n",
       "    </tr>\n",
       "    <tr>\n",
       "      <th>2</th>\n",
       "      <td>bread sharpli skewer convent horror movi gener...</td>\n",
       "      <td>None</td>\n",
       "    </tr>\n",
       "    <tr>\n",
       "      <th>3</th>\n",
       "      <td>read ton good review movi decid take spin boug...</td>\n",
       "      <td>None</td>\n",
       "    </tr>\n",
       "    <tr>\n",
       "      <th>4</th>\n",
       "      <td>civil war wound union soldier hide isol confed...</td>\n",
       "      <td>None</td>\n",
       "    </tr>\n",
       "  </tbody>\n",
       "</table>\n",
       "</div>"
      ],
      "text/plain": [
       "                                              review target\n",
       "0  shame swedish film swedish english subtitl fil...   None\n",
       "1  know rather unfair comment movi without see co...      0\n",
       "2  bread sharpli skewer convent horror movi gener...   None\n",
       "3  read ton good review movi decid take spin boug...   None\n",
       "4  civil war wound union soldier hide isol confed...   None"
      ]
     },
     "execution_count": 15,
     "metadata": {},
     "output_type": "execute_result"
    }
   ],
   "source": [
    "train.head()"
   ]
  },
  {
   "cell_type": "markdown",
   "id": "ce9513ad",
   "metadata": {},
   "source": [
    "### Feature Engineering Pipeline"
   ]
  },
  {
   "cell_type": "code",
   "execution_count": 16,
   "id": "7f547f14",
   "metadata": {},
   "outputs": [],
   "source": [
    "pipeline = Pipeline([\n",
    "    ('Count_Vectorizer', CountVectorizer(binary=True)), # For tokenization\n",
    "    ('TF-iDF', TfidfTransformer()), # For converting into tdf-idf format\n",
    "    ('TruncatedSVD', TruncatedSVD(n_components=300)) # Dimentinality Reduction\n",
    "])"
   ]
  },
  {
   "cell_type": "code",
   "execution_count": 17,
   "id": "950c171e",
   "metadata": {},
   "outputs": [
    {
     "name": "stdout",
     "output_type": "stream",
     "text": [
      "CPU times: total: 2min 8s\n",
      "Wall time: 33.5 s\n"
     ]
    }
   ],
   "source": [
    "%%time\n",
    "\n",
    "transformed_data = train['review'].values\n",
    "transformed_data = pipeline.fit_transform(transformed_data, train['target'])\n",
    "\n",
    "train_features = transformed_data"
   ]
  },
  {
   "cell_type": "code",
   "execution_count": 18,
   "id": "eb4ca4d1",
   "metadata": {},
   "outputs": [
    {
     "data": {
      "text/plain": [
       "(40000, 300)"
      ]
     },
     "execution_count": 18,
     "metadata": {},
     "output_type": "execute_result"
    }
   ],
   "source": [
    "train_features.shape"
   ]
  },
  {
   "cell_type": "code",
   "execution_count": 19,
   "id": "501a6a66",
   "metadata": {},
   "outputs": [
    {
     "name": "stdout",
     "output_type": "stream",
     "text": [
      "[[ 0.17843166 -0.04968433  0.0083688  ...  0.01156423  0.02857892\n",
      "  -0.00205946]\n",
      " [ 0.21039223  0.09834249 -0.01554749 ... -0.02151784 -0.01605723\n",
      "  -0.02135299]\n",
      " [ 0.1079967  -0.00587662 -0.01038427 ...  0.00707554 -0.00810538\n",
      "  -0.00972366]\n",
      " ...\n",
      " [ 0.14725446  0.05581155  0.0149509  ... -0.00099401  0.03142661\n",
      "   0.01816373]\n",
      " [ 0.14257894  0.0499227   0.01453348 ...  0.00038409  0.01219313\n",
      "   0.01509306]\n",
      " [ 0.17956943  0.0370677   0.0520478  ... -0.00683968  0.00147853\n",
      "   0.00333439]]\n"
     ]
    }
   ],
   "source": [
    "print(train_features)"
   ]
  },
  {
   "cell_type": "markdown",
   "id": "b30a13f6",
   "metadata": {},
   "source": [
    "---\n",
    "# Data Clustering\n"
   ]
  },
  {
   "cell_type": "markdown",
   "id": "b457e72f",
   "metadata": {},
   "source": [
    "**Elbow method**"
   ]
  },
  {
   "cell_type": "code",
   "execution_count": 20,
   "id": "b5054625",
   "metadata": {},
   "outputs": [
    {
     "name": "stdout",
     "output_type": "stream",
     "text": [
      "CPU times: total: 32min 53s\n",
      "Wall time: 3min 2s\n"
     ]
    }
   ],
   "source": [
    "%%time\n",
    "elbow = []\n",
    "for i in [10, 30, 60, 80, 100, 200]:\n",
    "    k = KMeans(n_clusters=i)\n",
    "    k.fit(train_features)\n",
    "    elbow.append(k.inertia_)"
   ]
  },
  {
   "cell_type": "code",
   "execution_count": 21,
   "id": "38aaa2f1",
   "metadata": {},
   "outputs": [
    {
     "data": {
      "image/png": "[encoded data removed]",
      "text/plain": [
       "<Figure size 640x480 with 1 Axes>"
      ]
     },
     "metadata": {},
     "output_type": "display_data"
    }
   ],
   "source": [
    "plt.plot([10, 30, 60, 80, 100, 200], elbow)\n",
    "plt.title('Elbow Method')\n",
    "plt.xlabel('clusters')\n",
    "plt.ylabel('w')\n",
    "plt.show()"
   ]
  },
  {
   "cell_type": "markdown",
   "id": "2543da91",
   "metadata": {},
   "source": [
    "**More the clusters we are using, the w value is getting lower. We will use 100 as our elbow point**"
   ]
  },
  {
   "cell_type": "code",
   "execution_count": 22,
   "id": "040d863c",
   "metadata": {},
   "outputs": [
    {
     "name": "stdout",
     "output_type": "stream",
     "text": [
      "CPU times: total: 7min 30s\n",
      "Wall time: 46.9 s\n"
     ]
    },
    {
     "data": {
      "text/html": [
       "<style>#sk-container-id-1 {color: black;background-color: white;}#sk-container-id-1 pre{padding: 0;}#sk-container-id-1 div.sk-toggleable {background-color: white;}#sk-container-id-1 label.sk-toggleable__label {cursor: pointer;display: block;width: 100%;margin-bottom: 0;padding: 0.3em;box-sizing: border-box;text-align: center;}#sk-container-id-1 label.sk-toggleable__label-arrow:before {content: \"▸\";float: left;margin-right: 0.25em;color: #696969;}#sk-container-id-1 label.sk-toggleable__label-arrow:hover:before {color: black;}#sk-container-id-1 div.sk-estimator:hover label.sk-toggleable__label-arrow:before {color: black;}#sk-container-id-1 div.sk-toggleable__content {max-height: 0;max-width: 0;overflow: hidden;text-align: left;background-color: #f0f8ff;}#sk-container-id-1 div.sk-toggleable__content pre {margin: 0.2em;color: black;border-radius: 0.25em;background-color: #f0f8ff;}#sk-container-id-1 input.sk-toggleable__control:checked~div.sk-toggleable__content {max-height: 200px;max-width: 100%;overflow: auto;}#sk-container-id-1 input.sk-toggleable__control:checked~label.sk-toggleable__label-arrow:before {content: \"▾\";}#sk-container-id-1 div.sk-estimator input.sk-toggleable__control:checked~label.sk-toggleable__label {background-color: #d4ebff;}#sk-container-id-1 div.sk-label input.sk-toggleable__control:checked~label.sk-toggleable__label {background-color: #d4ebff;}#sk-container-id-1 input.sk-hidden--visually {border: 0;clip: rect(1px 1px 1px 1px);clip: rect(1px, 1px, 1px, 1px);height: 1px;margin: -1px;overflow: hidden;padding: 0;position: absolute;width: 1px;}#sk-container-id-1 div.sk-estimator {font-family: monospace;background-color: #f0f8ff;border: 1px dotted black;border-radius: 0.25em;box-sizing: border-box;margin-bottom: 0.5em;}#sk-container-id-1 div.sk-estimator:hover {background-color: #d4ebff;}#sk-container-id-1 div.sk-parallel-item::after {content: \"\";width: 100%;border-bottom: 1px solid gray;flex-grow: 1;}#sk-container-id-1 div.sk-label:hover label.sk-toggleable__label {background-color: #d4ebff;}#sk-container-id-1 div.sk-serial::before {content: \"\";position: absolute;border-left: 1px solid gray;box-sizing: border-box;top: 0;bottom: 0;left: 50%;z-index: 0;}#sk-container-id-1 div.sk-serial {display: flex;flex-direction: column;align-items: center;background-color: white;padding-right: 0.2em;padding-left: 0.2em;position: relative;}#sk-container-id-1 div.sk-item {position: relative;z-index: 1;}#sk-container-id-1 div.sk-parallel {display: flex;align-items: stretch;justify-content: center;background-color: white;position: relative;}#sk-container-id-1 div.sk-item::before, #sk-container-id-1 div.sk-parallel-item::before {content: \"\";position: absolute;border-left: 1px solid gray;box-sizing: border-box;top: 0;bottom: 0;left: 50%;z-index: -1;}#sk-container-id-1 div.sk-parallel-item {display: flex;flex-direction: column;z-index: 1;position: relative;background-color: white;}#sk-container-id-1 div.sk-parallel-item:first-child::after {align-self: flex-end;width: 50%;}#sk-container-id-1 div.sk-parallel-item:last-child::after {align-self: flex-start;width: 50%;}#sk-container-id-1 div.sk-parallel-item:only-child::after {width: 0;}#sk-container-id-1 div.sk-dashed-wrapped {border: 1px dashed gray;margin: 0 0.4em 0.5em 0.4em;box-sizing: border-box;padding-bottom: 0.4em;background-color: white;}#sk-container-id-1 div.sk-label label {font-family: monospace;font-weight: bold;display: inline-block;line-height: 1.2em;}#sk-container-id-1 div.sk-label-container {text-align: center;}#sk-container-id-1 div.sk-container {/* jupyter's `normalize.less` sets `[hidden] { display: none; }` but bootstrap.min.css set `[hidden] { display: none !important; }` so we also need the `!important` here to be able to override the default hidden behavior on the sphinx rendered scikit-learn.org. See: https://github.com/scikit-learn/scikit-learn/issues/21755 */display: inline-block !important;position: relative;}#sk-container-id-1 div.sk-text-repr-fallback {display: none;}</style><div id=\"sk-container-id-1\" class=\"sk-top-container\"><div class=\"sk-text-repr-fallback\"><pre>KMeans(n_clusters=100)</pre><b>In a Jupyter environment, please rerun this cell to show the HTML representation or trust the notebook. <br />On GitHub, the HTML representation is unable to render, please try loading this page with nbviewer.org.</b></div><div class=\"sk-container\" hidden><div class=\"sk-item\"><div class=\"sk-estimator sk-toggleable\"><input class=\"sk-toggleable__control sk-hidden--visually\" id=\"sk-estimator-id-1\" type=\"checkbox\" checked><label for=\"sk-estimator-id-1\" class=\"sk-toggleable__label sk-toggleable__label-arrow\">KMeans</label><div class=\"sk-toggleable__content\"><pre>KMeans(n_clusters=100)</pre></div></div></div></div></div>"
      ],
      "text/plain": [
       "KMeans(n_clusters=100)"
      ]
     },
     "execution_count": 22,
     "metadata": {},
     "output_type": "execute_result"
    }
   ],
   "source": [
    "%%time\n",
    "\n",
    "# Generating the clusters\n",
    "\n",
    "num_clusters = 100\n",
    "k_means = KMeans(n_clusters=num_clusters)\n",
    "k_means.fit(train_features)"
   ]
  },
  {
   "cell_type": "markdown",
   "id": "b2f8db79",
   "metadata": {},
   "source": [
    "#### Clusters Visualization"
   ]
  },
  {
   "cell_type": "code",
   "execution_count": 23,
   "id": "3486366a",
   "metadata": {},
   "outputs": [
    {
     "name": "stdout",
     "output_type": "stream",
     "text": [
      "CPU times: total: 6min 31s\n",
      "Wall time: 39 s\n"
     ]
    }
   ],
   "source": [
    "%%time\n",
    "pca = PCA(n_components=2)\n",
    "k_means = KMeans(n_clusters= 100, max_iter = 250, random_state = 1999)\n",
    "\n",
    "clusters = k_means.fit_transform(train_features)\n",
    "labels = k_means.labels_"
   ]
  },
  {
   "cell_type": "code",
   "execution_count": 24,
   "id": "f8ff6080",
   "metadata": {},
   "outputs": [
    {
     "data": {
      "image/png": "[encoded data removed]",
      "text/plain": [
       "<Figure size 640x480 with 1 Axes>"
      ]
     },
     "metadata": {},
     "output_type": "display_data"
    }
   ],
   "source": [
    "train_pca = pca.fit_transform(train_features)\n",
    "\n",
    "plt.scatter(train_pca[:, 0], train_pca[:, 1], c=labels)\n",
    "plt.title(\"Clusters\")\n",
    "plt.show()"
   ]
  },
  {
   "cell_type": "code",
   "execution_count": 25,
   "id": "d4e49e59",
   "metadata": {},
   "outputs": [
    {
     "name": "stdout",
     "output_type": "stream",
     "text": [
      "Silhouette Score: -0.07288811659104283\n"
     ]
    }
   ],
   "source": [
    "# Checking the silhouette score\n",
    "\n",
    "silhouette = silhouette_score(train_features, k_means.labels_)\n",
    "print(\"Silhouette Score:\", silhouette)"
   ]
  },
  {
   "cell_type": "markdown",
   "id": "2a9a2871",
   "metadata": {},
   "source": [
    "---\n",
    "## Aggregating the target variable using avaliable 10% of our target values"
   ]
  },
  {
   "cell_type": "code",
   "execution_count": 26,
   "id": "5c60db89",
   "metadata": {},
   "outputs": [],
   "source": [
    "labels = k_means.labels_\n",
    "target = train['target']"
   ]
  },
  {
   "cell_type": "markdown",
   "id": "f5b37588",
   "metadata": {},
   "source": [
    "##### Creating the dataframe which will have cluster labels for each instance"
   ]
  },
  {
   "cell_type": "code",
   "execution_count": 27,
   "id": "5dfbaad5",
   "metadata": {},
   "outputs": [],
   "source": [
    "clustered_data = pd.DataFrame(labels, columns=['Cluster Label'])\n",
    "\n",
    "clustered_data['target'] = target"
   ]
  },
  {
   "cell_type": "code",
   "execution_count": 28,
   "id": "4938c5fa",
   "metadata": {},
   "outputs": [
    {
     "data": {
      "text/html": [
       "<div>\n",
       "<style scoped>\n",
       "    .dataframe tbody tr th:only-of-type {\n",
       "        vertical-align: middle;\n",
       "    }\n",
       "\n",
       "    .dataframe tbody tr th {\n",
       "        vertical-align: top;\n",
       "    }\n",
       "\n",
       "    .dataframe thead th {\n",
       "        text-align: right;\n",
       "    }\n",
       "</style>\n",
       "<table border=\"1\" class=\"dataframe\">\n",
       "  <thead>\n",
       "    <tr style=\"text-align: right;\">\n",
       "      <th></th>\n",
       "      <th>Cluster Label</th>\n",
       "      <th>target</th>\n",
       "    </tr>\n",
       "  </thead>\n",
       "  <tbody>\n",
       "    <tr>\n",
       "      <th>0</th>\n",
       "      <td>31</td>\n",
       "      <td>None</td>\n",
       "    </tr>\n",
       "    <tr>\n",
       "      <th>1</th>\n",
       "      <td>41</td>\n",
       "      <td>0</td>\n",
       "    </tr>\n",
       "    <tr>\n",
       "      <th>2</th>\n",
       "      <td>92</td>\n",
       "      <td>None</td>\n",
       "    </tr>\n",
       "    <tr>\n",
       "      <th>3</th>\n",
       "      <td>69</td>\n",
       "      <td>None</td>\n",
       "    </tr>\n",
       "    <tr>\n",
       "      <th>4</th>\n",
       "      <td>12</td>\n",
       "      <td>None</td>\n",
       "    </tr>\n",
       "  </tbody>\n",
       "</table>\n",
       "</div>"
      ],
      "text/plain": [
       "   Cluster Label target\n",
       "0             31   None\n",
       "1             41      0\n",
       "2             92   None\n",
       "3             69   None\n",
       "4             12   None"
      ]
     },
     "execution_count": 28,
     "metadata": {},
     "output_type": "execute_result"
    }
   ],
   "source": [
    "clustered_data.head()"
   ]
  },
  {
   "cell_type": "markdown",
   "id": "f2583ad0",
   "metadata": {},
   "source": [
    "##### Aggregating the target for the samples for which target is not present"
   ]
  },
  {
   "cell_type": "code",
   "execution_count": 29,
   "id": "dbf6ab4e",
   "metadata": {},
   "outputs": [],
   "source": [
    "# Creating the dictionary for each cluster and its most occuring target value\n",
    "cluster_mean_dict = clustered_data.groupby('Cluster Label')['target'].mean()"
   ]
  },
  {
   "cell_type": "code",
   "execution_count": 30,
   "id": "82db4275",
   "metadata": {},
   "outputs": [],
   "source": [
    "# Filling the values for None values in target variable\n",
    "clustered_data.loc[ (clustered_data['target']).isna(), 'target']  = clustered_data[ (clustered_data['target'].isna())]['Cluster Label'].apply(lambda x: cluster_mean_dict[x])"
   ]
  },
  {
   "cell_type": "code",
   "execution_count": 31,
   "id": "222dfc0e",
   "metadata": {
    "scrolled": true
   },
   "outputs": [],
   "source": [
    "# Converting the target into integer\n",
    "clustered_data['target'] = clustered_data['target'].astype('float')\n",
    "clustered_data['target'] = clustered_data['target'].round()\n",
    "clustered_data.fillna(0, inplace = True)\n",
    "clustered_data['target'] = clustered_data['target'].astype('int')"
   ]
  },
  {
   "cell_type": "code",
   "execution_count": 32,
   "id": "178ec101",
   "metadata": {},
   "outputs": [
    {
     "data": {
      "text/html": [
       "<div>\n",
       "<style scoped>\n",
       "    .dataframe tbody tr th:only-of-type {\n",
       "        vertical-align: middle;\n",
       "    }\n",
       "\n",
       "    .dataframe tbody tr th {\n",
       "        vertical-align: top;\n",
       "    }\n",
       "\n",
       "    .dataframe thead th {\n",
       "        text-align: right;\n",
       "    }\n",
       "</style>\n",
       "<table border=\"1\" class=\"dataframe\">\n",
       "  <thead>\n",
       "    <tr style=\"text-align: right;\">\n",
       "      <th></th>\n",
       "      <th>Cluster Label</th>\n",
       "      <th>target</th>\n",
       "    </tr>\n",
       "  </thead>\n",
       "  <tbody>\n",
       "    <tr>\n",
       "      <th>0</th>\n",
       "      <td>31</td>\n",
       "      <td>1</td>\n",
       "    </tr>\n",
       "    <tr>\n",
       "      <th>1</th>\n",
       "      <td>41</td>\n",
       "      <td>0</td>\n",
       "    </tr>\n",
       "    <tr>\n",
       "      <th>2</th>\n",
       "      <td>92</td>\n",
       "      <td>0</td>\n",
       "    </tr>\n",
       "    <tr>\n",
       "      <th>3</th>\n",
       "      <td>69</td>\n",
       "      <td>0</td>\n",
       "    </tr>\n",
       "    <tr>\n",
       "      <th>4</th>\n",
       "      <td>12</td>\n",
       "      <td>1</td>\n",
       "    </tr>\n",
       "  </tbody>\n",
       "</table>\n",
       "</div>"
      ],
      "text/plain": [
       "   Cluster Label  target\n",
       "0             31       1\n",
       "1             41       0\n",
       "2             92       0\n",
       "3             69       0\n",
       "4             12       1"
      ]
     },
     "execution_count": 32,
     "metadata": {},
     "output_type": "execute_result"
    }
   ],
   "source": [
    "clustered_data.head()"
   ]
  },
  {
   "cell_type": "code",
   "execution_count": 33,
   "id": "5a4b2918",
   "metadata": {},
   "outputs": [
    {
     "data": {
      "text/plain": [
       "Cluster Label    0\n",
       "target           0\n",
       "dtype: int64"
      ]
     },
     "execution_count": 33,
     "metadata": {},
     "output_type": "execute_result"
    }
   ],
   "source": [
    "clustered_data.isna().sum()"
   ]
  },
  {
   "cell_type": "code",
   "execution_count": 34,
   "id": "e007f90b",
   "metadata": {},
   "outputs": [
    {
     "data": {
      "text/plain": [
       "<Axes: ylabel='count'>"
      ]
     },
     "execution_count": 34,
     "metadata": {},
     "output_type": "execute_result"
    },
    {
     "data": {
      "image/png": "[encoded data removed]",
      "text/plain": [
       "<Figure size 640x480 with 1 Axes>"
      ]
     },
     "metadata": {},
     "output_type": "display_data"
    }
   ],
   "source": [
    "clustered_data.target.value_counts().plot.pie(autopct = '%1.1f%%')"
   ]
  },
  {
   "cell_type": "markdown",
   "id": "605c16a9",
   "metadata": {},
   "source": [
    "**As we can see, the target variable is not majorly imbalanced. So we will use Accuracy as our scoring metrics.**"
   ]
  },
  {
   "cell_type": "markdown",
   "id": "cbe5ce04",
   "metadata": {},
   "source": [
    "---\n",
    "# Baseline Modeling"
   ]
  },
  {
   "cell_type": "code",
   "execution_count": 35,
   "id": "74219508",
   "metadata": {},
   "outputs": [],
   "source": [
    "# Train test split\n",
    "\n",
    "X_train, X_test, y_train, y_test = train_test_split(train_features, clustered_data['target'], test_size=0.2, random_state=1999)"
   ]
  },
  {
   "cell_type": "code",
   "execution_count": 36,
   "id": "fd55ce53",
   "metadata": {},
   "outputs": [
    {
     "name": "stdout",
     "output_type": "stream",
     "text": [
      "Accuracy is: 0.79275\n"
     ]
    }
   ],
   "source": [
    "# Logistic regression\n",
    "\n",
    "model = LogisticRegression()\n",
    "\n",
    "model.fit(X_train, y_train)\n",
    "\n",
    "preds = model.predict(X_test)\n",
    "\n",
    "print(\"Accuracy is:\", accuracy_score(preds, y_test))"
   ]
  },
  {
   "cell_type": "code",
   "execution_count": 37,
   "id": "88790523",
   "metadata": {},
   "outputs": [
    {
     "name": "stdout",
     "output_type": "stream",
     "text": [
      "              precision    recall  f1-score   support\n",
      "\n",
      "           0       0.77      0.80      0.78      3733\n",
      "           1       0.82      0.79      0.80      4267\n",
      "\n",
      "    accuracy                           0.79      8000\n",
      "   macro avg       0.79      0.79      0.79      8000\n",
      "weighted avg       0.79      0.79      0.79      8000\n",
      "\n"
     ]
    }
   ],
   "source": [
    "print(classification_report(preds, y_test))"
   ]
  },
  {
   "cell_type": "code",
   "execution_count": 38,
   "id": "fdaa375c",
   "metadata": {},
   "outputs": [
    {
     "name": "stdout",
     "output_type": "stream",
     "text": [
      "Accuracy is: 0.801875\n"
     ]
    }
   ],
   "source": [
    "# LightGBM\n",
    "\n",
    "model = LGBMClassifier(random_state=1999)\n",
    "\n",
    "model.fit(X_train, y_train)\n",
    "\n",
    "preds = model.predict(X_test)\n",
    "\n",
    "print(\"Accuracy is:\", accuracy_score(preds, y_test))"
   ]
  },
  {
   "cell_type": "code",
   "execution_count": 40,
   "id": "d0dfd380",
   "metadata": {},
   "outputs": [
    {
     "name": "stdout",
     "output_type": "stream",
     "text": [
      "Accuracy is: 0.695125\n",
      "CPU times: total: 18 s\n",
      "Wall time: 18 s\n"
     ]
    }
   ],
   "source": [
    "%%time\n",
    "# DecisionTreeClassifier\n",
    "\n",
    "model = DecisionTreeClassifier()\n",
    "\n",
    "model.fit(X_train, y_train)\n",
    "\n",
    "preds = model.predict(X_test)\n",
    "\n",
    "print(\"Accuracy is:\", accuracy_score(preds, y_test))"
   ]
  },
  {
   "cell_type": "markdown",
   "id": "b9a976ef",
   "metadata": {},
   "source": [
    "**All the basline models are giving almost same accuracy score. Now we develop a cross validation strategy to train and evaluate each model.**"
   ]
  },
  {
   "cell_type": "markdown",
   "id": "15b8175d",
   "metadata": {},
   "source": [
    "---\n",
    "# Cross Validation"
   ]
  },
  {
   "cell_type": "code",
   "execution_count": 41,
   "id": "8a26de10",
   "metadata": {},
   "outputs": [],
   "source": [
    "def cross_val(clf, train, train_labels):\n",
    "    N_splits = 5\n",
    "    \n",
    "    oofs = np.zeros(len(train))\n",
    "    preds = np.zeros(len(test))\n",
    "    \n",
    "    target_col = train_labels\n",
    "    \n",
    "    folds = StratifiedKFold(n_splits = N_splits, shuffle = True,random_state = 1999)\n",
    "    stratified_target = pd.qcut( train_labels, 10, labels=False, duplicates='drop')\n",
    "    \"\"\n",
    "    for index, (trn_idx, val_idx) in enumerate(folds.split(train, stratified_target)):\n",
    "        print(f'\\n================================Fold{index + 1}===================================')\n",
    "        \n",
    "        #### Train Set\n",
    "        X_trn, y_trn = train[trn_idx], target_col.iloc[trn_idx]\n",
    "        \n",
    "        #### Validation Set\n",
    "        X_val, y_val = train[val_idx], target_col.iloc[val_idx]\n",
    "\n",
    "        \n",
    "        ############ Fitting #############\n",
    "        _ = clf.fit(X_trn, y_trn)\n",
    "        \n",
    "        ############ Predicting #############\n",
    "        val_preds = clf.predict(X_val)\n",
    "\n",
    "        \n",
    "        acc = accuracy_score(y_val, val_preds)\n",
    "        print(f'\\n Accuracy for Validation set is : {acc}')\n",
    "\n",
    "        \n",
    "        oofs[val_idx] = val_preds\n",
    "        \n",
    "    total_error = accuracy_score(target_col, oofs)\n",
    "    print(f'\\nAccuracy for oofs is {total_error}')\n",
    "    \n",
    "    return oofs"
   ]
  },
  {
   "cell_type": "markdown",
   "id": "6cff22a3",
   "metadata": {},
   "source": [
    "**Here we will implement cross validation using 2 of our best models from baseline modelling.**"
   ]
  },
  {
   "cell_type": "code",
   "execution_count": 42,
   "id": "c6baf191",
   "metadata": {},
   "outputs": [
    {
     "name": "stdout",
     "output_type": "stream",
     "text": [
      "\n",
      "================================Fold1===================================\n",
      "\n",
      " Accuracy for Validation set is : 0.78975\n",
      "\n",
      "================================Fold2===================================\n",
      "\n",
      " Accuracy for Validation set is : 0.79175\n",
      "\n",
      "================================Fold3===================================\n",
      "\n",
      " Accuracy for Validation set is : 0.791375\n",
      "\n",
      "================================Fold4===================================\n",
      "\n",
      " Accuracy for Validation set is : 0.799875\n",
      "\n",
      "================================Fold5===================================\n",
      "\n",
      " Accuracy for Validation set is : 0.799625\n",
      "\n",
      "Accuracy for oofs is 0.794475\n",
      "CPU times: total: 18.2 s\n",
      "Wall time: 2.62 s\n"
     ]
    }
   ],
   "source": [
    "%%time\n",
    "# Logistic regression\n",
    "lr_oofs = cross_val(LogisticRegression(), train_features, clustered_data['target'])"
   ]
  },
  {
   "cell_type": "code",
   "execution_count": 43,
   "id": "638a9b00",
   "metadata": {},
   "outputs": [
    {
     "name": "stdout",
     "output_type": "stream",
     "text": [
      "\n",
      "================================Fold1===================================\n",
      "\n",
      " Accuracy for Validation set is : 0.79875\n",
      "\n",
      "================================Fold2===================================\n",
      "\n",
      " Accuracy for Validation set is : 0.804625\n",
      "\n",
      "================================Fold3===================================\n",
      "\n",
      " Accuracy for Validation set is : 0.804125\n",
      "\n",
      "================================Fold4===================================\n",
      "\n",
      " Accuracy for Validation set is : 0.807375\n",
      "\n",
      "================================Fold5===================================\n",
      "\n",
      " Accuracy for Validation set is : 0.80875\n",
      "\n",
      "Accuracy for oofs is 0.804725\n",
      "CPU times: total: 2min 47s\n",
      "Wall time: 16.7 s\n"
     ]
    }
   ],
   "source": [
    "%%time\n",
    "# LGBMClassifier\n",
    "lgb_oofs = cross_val(LGBMClassifier(random_state = 1999), train_features, clustered_data['target'])"
   ]
  },
  {
   "cell_type": "markdown",
   "id": "a1ed3277",
   "metadata": {},
   "source": [
    "---\n",
    "# Hyperparameter Tuning"
   ]
  },
  {
   "cell_type": "code",
   "execution_count": 44,
   "id": "c6d6e690",
   "metadata": {},
   "outputs": [
    {
     "name": "stdout",
     "output_type": "stream",
     "text": [
      "CPU times: total: 5min 46s\n",
      "Wall time: 51.6 s\n"
     ]
    },
    {
     "data": {
      "text/html": [
       "<style>#sk-container-id-2 {color: black;background-color: white;}#sk-container-id-2 pre{padding: 0;}#sk-container-id-2 div.sk-toggleable {background-color: white;}#sk-container-id-2 label.sk-toggleable__label {cursor: pointer;display: block;width: 100%;margin-bottom: 0;padding: 0.3em;box-sizing: border-box;text-align: center;}#sk-container-id-2 label.sk-toggleable__label-arrow:before {content: \"▸\";float: left;margin-right: 0.25em;color: #696969;}#sk-container-id-2 label.sk-toggleable__label-arrow:hover:before {color: black;}#sk-container-id-2 div.sk-estimator:hover label.sk-toggleable__label-arrow:before {color: black;}#sk-container-id-2 div.sk-toggleable__content {max-height: 0;max-width: 0;overflow: hidden;text-align: left;background-color: #f0f8ff;}#sk-container-id-2 div.sk-toggleable__content pre {margin: 0.2em;color: black;border-radius: 0.25em;background-color: #f0f8ff;}#sk-container-id-2 input.sk-toggleable__control:checked~div.sk-toggleable__content {max-height: 200px;max-width: 100%;overflow: auto;}#sk-container-id-2 input.sk-toggleable__control:checked~label.sk-toggleable__label-arrow:before {content: \"▾\";}#sk-container-id-2 div.sk-estimator input.sk-toggleable__control:checked~label.sk-toggleable__label {background-color: #d4ebff;}#sk-container-id-2 div.sk-label input.sk-toggleable__control:checked~label.sk-toggleable__label {background-color: #d4ebff;}#sk-container-id-2 input.sk-hidden--visually {border: 0;clip: rect(1px 1px 1px 1px);clip: rect(1px, 1px, 1px, 1px);height: 1px;margin: -1px;overflow: hidden;padding: 0;position: absolute;width: 1px;}#sk-container-id-2 div.sk-estimator {font-family: monospace;background-color: #f0f8ff;border: 1px dotted black;border-radius: 0.25em;box-sizing: border-box;margin-bottom: 0.5em;}#sk-container-id-2 div.sk-estimator:hover {background-color: #d4ebff;}#sk-container-id-2 div.sk-parallel-item::after {content: \"\";width: 100%;border-bottom: 1px solid gray;flex-grow: 1;}#sk-container-id-2 div.sk-label:hover label.sk-toggleable__label {background-color: #d4ebff;}#sk-container-id-2 div.sk-serial::before {content: \"\";position: absolute;border-left: 1px solid gray;box-sizing: border-box;top: 0;bottom: 0;left: 50%;z-index: 0;}#sk-container-id-2 div.sk-serial {display: flex;flex-direction: column;align-items: center;background-color: white;padding-right: 0.2em;padding-left: 0.2em;position: relative;}#sk-container-id-2 div.sk-item {position: relative;z-index: 1;}#sk-container-id-2 div.sk-parallel {display: flex;align-items: stretch;justify-content: center;background-color: white;position: relative;}#sk-container-id-2 div.sk-item::before, #sk-container-id-2 div.sk-parallel-item::before {content: \"\";position: absolute;border-left: 1px solid gray;box-sizing: border-box;top: 0;bottom: 0;left: 50%;z-index: -1;}#sk-container-id-2 div.sk-parallel-item {display: flex;flex-direction: column;z-index: 1;position: relative;background-color: white;}#sk-container-id-2 div.sk-parallel-item:first-child::after {align-self: flex-end;width: 50%;}#sk-container-id-2 div.sk-parallel-item:last-child::after {align-self: flex-start;width: 50%;}#sk-container-id-2 div.sk-parallel-item:only-child::after {width: 0;}#sk-container-id-2 div.sk-dashed-wrapped {border: 1px dashed gray;margin: 0 0.4em 0.5em 0.4em;box-sizing: border-box;padding-bottom: 0.4em;background-color: white;}#sk-container-id-2 div.sk-label label {font-family: monospace;font-weight: bold;display: inline-block;line-height: 1.2em;}#sk-container-id-2 div.sk-label-container {text-align: center;}#sk-container-id-2 div.sk-container {/* jupyter's `normalize.less` sets `[hidden] { display: none; }` but bootstrap.min.css set `[hidden] { display: none !important; }` so we also need the `!important` here to be able to override the default hidden behavior on the sphinx rendered scikit-learn.org. See: https://github.com/scikit-learn/scikit-learn/issues/21755 */display: inline-block !important;position: relative;}#sk-container-id-2 div.sk-text-repr-fallback {display: none;}</style><div id=\"sk-container-id-2\" class=\"sk-top-container\"><div class=\"sk-text-repr-fallback\"><pre>GridSearchCV(cv=5, estimator=LogisticRegression(),\n",
       "             param_grid={&#x27;C&#x27;: [0.1, 1, 10], &#x27;max_iter&#x27;: [100, 1000, 2000],\n",
       "                         &#x27;penalty&#x27;: [&#x27;l1&#x27;, &#x27;l2&#x27;], &#x27;tol&#x27;: [0.001, 0.1, 1]},\n",
       "             scoring=&#x27;accuracy&#x27;)</pre><b>In a Jupyter environment, please rerun this cell to show the HTML representation or trust the notebook. <br />On GitHub, the HTML representation is unable to render, please try loading this page with nbviewer.org.</b></div><div class=\"sk-container\" hidden><div class=\"sk-item sk-dashed-wrapped\"><div class=\"sk-label-container\"><div class=\"sk-label sk-toggleable\"><input class=\"sk-toggleable__control sk-hidden--visually\" id=\"sk-estimator-id-2\" type=\"checkbox\" ><label for=\"sk-estimator-id-2\" class=\"sk-toggleable__label sk-toggleable__label-arrow\">GridSearchCV</label><div class=\"sk-toggleable__content\"><pre>GridSearchCV(cv=5, estimator=LogisticRegression(),\n",
       "             param_grid={&#x27;C&#x27;: [0.1, 1, 10], &#x27;max_iter&#x27;: [100, 1000, 2000],\n",
       "                         &#x27;penalty&#x27;: [&#x27;l1&#x27;, &#x27;l2&#x27;], &#x27;tol&#x27;: [0.001, 0.1, 1]},\n",
       "             scoring=&#x27;accuracy&#x27;)</pre></div></div></div><div class=\"sk-parallel\"><div class=\"sk-parallel-item\"><div class=\"sk-item\"><div class=\"sk-label-container\"><div class=\"sk-label sk-toggleable\"><input class=\"sk-toggleable__control sk-hidden--visually\" id=\"sk-estimator-id-3\" type=\"checkbox\" ><label for=\"sk-estimator-id-3\" class=\"sk-toggleable__label sk-toggleable__label-arrow\">estimator: LogisticRegression</label><div class=\"sk-toggleable__content\"><pre>LogisticRegression()</pre></div></div></div><div class=\"sk-serial\"><div class=\"sk-item\"><div class=\"sk-estimator sk-toggleable\"><input class=\"sk-toggleable__control sk-hidden--visually\" id=\"sk-estimator-id-4\" type=\"checkbox\" ><label for=\"sk-estimator-id-4\" class=\"sk-toggleable__label sk-toggleable__label-arrow\">LogisticRegression</label><div class=\"sk-toggleable__content\"><pre>LogisticRegression()</pre></div></div></div></div></div></div></div></div></div></div>"
      ],
      "text/plain": [
       "GridSearchCV(cv=5, estimator=LogisticRegression(),\n",
       "             param_grid={'C': [0.1, 1, 10], 'max_iter': [100, 1000, 2000],\n",
       "                         'penalty': ['l1', 'l2'], 'tol': [0.001, 0.1, 1]},\n",
       "             scoring='accuracy')"
      ]
     },
     "execution_count": 44,
     "metadata": {},
     "output_type": "execute_result"
    }
   ],
   "source": [
    "%%time\n",
    "param_grid = {\n",
    "    'penalty': ['l1', 'l2'],\n",
    "    'C': [0.1, 1, 10],\n",
    "    'tol' : [0.001, 0.1, 1],\n",
    "    'max_iter' : [100, 1000, 2000]\n",
    "}\n",
    "\n",
    "# Grid search with cross-validation\n",
    "grid_search = GridSearchCV(LogisticRegression(), param_grid, cv=5, scoring='accuracy')\n",
    "grid_search.fit(X_train, y_train)\n"
   ]
  },
  {
   "cell_type": "code",
   "execution_count": 45,
   "id": "3f3f7187",
   "metadata": {},
   "outputs": [
    {
     "name": "stdout",
     "output_type": "stream",
     "text": [
      "Best Hyperparameters: {'C': 10, 'max_iter': 100, 'penalty': 'l2', 'tol': 1}\n",
      "Best Score: 0.7945625\n"
     ]
    }
   ],
   "source": [
    "best_params = grid_search.best_params_\n",
    "best_score = grid_search.best_score_\n",
    "\n",
    "print(\"Best Hyperparameters:\", best_params)\n",
    "print(\"Best Score:\", best_score)"
   ]
  },
  {
   "cell_type": "markdown",
   "id": "ce725da3",
   "metadata": {},
   "source": [
    "\n",
    "**Getting cross validation results with runed model**"
   ]
  },
  {
   "cell_type": "code",
   "execution_count": 46,
   "id": "88969ac6",
   "metadata": {},
   "outputs": [],
   "source": [
    "params = {'C': 10, 'max_iter': 100, 'penalty': 'l2', 'tol': 0.1}\n",
    "model = LogisticRegression(**params)"
   ]
  },
  {
   "cell_type": "code",
   "execution_count": 47,
   "id": "940d7adf",
   "metadata": {},
   "outputs": [
    {
     "name": "stdout",
     "output_type": "stream",
     "text": [
      "\n",
      "================================Fold1===================================\n",
      "\n",
      " Accuracy for Validation set is : 0.78925\n",
      "\n",
      "================================Fold2===================================\n",
      "\n",
      " Accuracy for Validation set is : 0.796625\n",
      "\n",
      "================================Fold3===================================\n",
      "\n",
      " Accuracy for Validation set is : 0.792875\n",
      "\n",
      "================================Fold4===================================\n",
      "\n",
      " Accuracy for Validation set is : 0.801875\n",
      "\n",
      "================================Fold5===================================\n",
      "\n",
      " Accuracy for Validation set is : 0.80075\n",
      "\n",
      "Accuracy for oofs is 0.796275\n",
      "CPU times: total: 19.6 s\n",
      "Wall time: 2.43 s\n"
     ]
    }
   ],
   "source": [
    "%%time\n",
    "lr_oofs = cross_val(model, train_features, clustered_data['target'])"
   ]
  },
  {
   "cell_type": "markdown",
   "id": "0db16855",
   "metadata": {},
   "source": [
    "**The tuned model is slightly better than the baseline model with the same time complexity. SO will use the tuned model as our final model.**"
   ]
  },
  {
   "cell_type": "code",
   "execution_count": 48,
   "id": "daa81d08",
   "metadata": {},
   "outputs": [],
   "source": [
    "# Selecting final model as our tuned logistic regression model\n",
    "params = {'C': 10, 'max_iter': 100, 'penalty': 'l2', 'tol': 0.1}\n",
    "model = LogisticRegression(**params)"
   ]
  },
  {
   "cell_type": "markdown",
   "id": "ba15edf6",
   "metadata": {},
   "source": [
    "---\n",
    "# Processing Test Data"
   ]
  },
  {
   "cell_type": "code",
   "execution_count": 49,
   "id": "3662251f",
   "metadata": {},
   "outputs": [],
   "source": [
    "# Text Cleaning\n",
    "test['review'] = test['review'].apply(lambda x: text_cleaning(x))\n",
    "\n",
    "# Tokenizing\n",
    "test['review'] = test['review'].apply(lambda x: tokenize(x))\n",
    "\n",
    "# Stop Words Removal\n",
    "test['review'] = test['review'].apply(lambda x: remove_stopwords(x))\n",
    "\n",
    "# Stemming\n",
    "test['review'] = test['review'].apply(lambda x: stemming(x))\n",
    "\n",
    "# Lemmatization\n",
    "test['review'] = test['review'].apply(lambda x: lemmatization(x))\n",
    "\n",
    "# Joining the text\n",
    "test['review'] = test['review'].apply(lambda x: ' '.join(x))"
   ]
  },
  {
   "cell_type": "code",
   "execution_count": 50,
   "id": "9065b931",
   "metadata": {},
   "outputs": [],
   "source": [
    "pipeline = Pipeline([\n",
    "    ('Count_Vectorizer', CountVectorizer(binary=True)),\n",
    "    ('TF-iDF', TfidfTransformer()),\n",
    "    ('TruncatedSVD', TruncatedSVD(n_components=300))\n",
    "])"
   ]
  },
  {
   "cell_type": "code",
   "execution_count": 51,
   "id": "d079781f",
   "metadata": {},
   "outputs": [
    {
     "name": "stdout",
     "output_type": "stream",
     "text": [
      "CPU times: total: 39.2 s\n",
      "Wall time: 10.4 s\n"
     ]
    }
   ],
   "source": [
    "%%time\n",
    "transformed_data = test['review'].values\n",
    "transformed_data = pipeline.fit_transform(transformed_data)"
   ]
  },
  {
   "cell_type": "code",
   "execution_count": 52,
   "id": "30718e0d",
   "metadata": {},
   "outputs": [],
   "source": [
    "test_features = transformed_data"
   ]
  },
  {
   "cell_type": "code",
   "execution_count": 53,
   "id": "3264a441",
   "metadata": {},
   "outputs": [
    {
     "name": "stdout",
     "output_type": "stream",
     "text": [
      "[[ 0.13410878 -0.06109051  0.04340538 ... -0.00528821  0.00721845\n",
      "  -0.00684185]\n",
      " [ 0.22615655 -0.05063965  0.03022034 ... -0.02256661 -0.01156926\n",
      "   0.00530892]\n",
      " [ 0.16865621 -0.03085514  0.0403628  ...  0.02244963  0.00110279\n",
      "  -0.02473486]\n",
      " ...\n",
      " [ 0.08443964  0.02596818 -0.03858186 ... -0.01140506 -0.00508317\n",
      "  -0.00773005]\n",
      " [ 0.06270091  0.01188009 -0.0019176  ...  0.00150711 -0.00244351\n",
      "  -0.02841841]\n",
      " [ 0.1631688   0.02715883 -0.02313738 ... -0.0100067   0.00062465\n",
      "  -0.01202094]]\n"
     ]
    }
   ],
   "source": [
    "print(test_features)"
   ]
  },
  {
   "cell_type": "code",
   "execution_count": 54,
   "id": "c67f1c2b",
   "metadata": {},
   "outputs": [],
   "source": [
    "def cross_val_for_test(clf, train, train_labels, test):\n",
    "    N_splits = 5\n",
    "    \n",
    "    oofs = np.zeros(len(train))\n",
    "    preds = np.zeros(len(test))\n",
    "    \n",
    "    target_col = train_labels\n",
    "    \n",
    "    folds = StratifiedKFold(n_splits = N_splits, shuffle = True,random_state = 1999)\n",
    "    stratified_target = pd.qcut( train_labels, 10, labels=False, duplicates='drop')\n",
    "    \"\"\n",
    "    for index, (trn_idx, val_idx) in enumerate(folds.split(train, stratified_target)):\n",
    "        print(f'\\n================================Fold{index + 1}===================================')\n",
    "        \n",
    "        #### Train Set\n",
    "        X_trn, y_trn = train[trn_idx], target_col.iloc[trn_idx]\n",
    "        \n",
    "        #### Validation Set\n",
    "        X_val, y_val = train[val_idx], target_col.iloc[val_idx]\n",
    "        \n",
    "        #### Test Set\n",
    "        X_test = test\n",
    "        \n",
    "        ############ Fitting #############\n",
    "        _ = clf.fit(X_trn, y_trn)\n",
    "        \n",
    "        ############ Predicting #############\n",
    "        val_preds = clf.predict(X_val)\n",
    "        test_preds = clf.predict(X_test)\n",
    "        \n",
    "        acc = accuracy_score(y_val, val_preds)\n",
    "        print(f'\\n Accuracy for Validation set is : {acc}')\n",
    "\n",
    "        \n",
    "        oofs[val_idx] = val_preds\n",
    "        preds += test_preds / N_splits\n",
    "        \n",
    "    total_error = accuracy_score(target_col, oofs)\n",
    "    print(f'\\n\\Accuracy for oofs is {total_error}')\n",
    "    \n",
    "    return oofs, preds"
   ]
  },
  {
   "cell_type": "code",
   "execution_count": 57,
   "id": "ee0119ad",
   "metadata": {},
   "outputs": [],
   "source": [
    "params = {'C': 10, 'max_iter': 100, 'penalty': 'l2', 'tol': 0.1}\n",
    "final_model = LogisticRegression(**params)"
   ]
  },
  {
   "cell_type": "code",
   "execution_count": 58,
   "id": "ac6036ed",
   "metadata": {},
   "outputs": [
    {
     "name": "stdout",
     "output_type": "stream",
     "text": [
      "\n",
      "================================Fold1===================================\n",
      "\n",
      " Accuracy for Validation set is : 0.78925\n",
      "\n",
      "================================Fold2===================================\n",
      "\n",
      " Accuracy for Validation set is : 0.796625\n",
      "\n",
      "================================Fold3===================================\n",
      "\n",
      " Accuracy for Validation set is : 0.792875\n",
      "\n",
      "================================Fold4===================================\n",
      "\n",
      " Accuracy for Validation set is : 0.801875\n",
      "\n",
      "================================Fold5===================================\n",
      "\n",
      " Accuracy for Validation set is : 0.80075\n",
      "\n",
      "\\Accuracy for oofs is 0.796275\n",
      "CPU times: total: 18 s\n",
      "Wall time: 2.43 s\n"
     ]
    }
   ],
   "source": [
    "%%time\n",
    "lr_oofs, lr_preds = cross_val_for_test(final_model, train_features, clustered_data['target'], test_features)"
   ]
  },
  {
   "cell_type": "code",
   "execution_count": 59,
   "id": "fffd313e",
   "metadata": {},
   "outputs": [
    {
     "name": "stdout",
     "output_type": "stream",
     "text": [
      "Accuracy is: 0.7697\n"
     ]
    }
   ],
   "source": [
    "lr_preds = lr_preds.astype('int')\n",
    "print(\"Accuracy is:\", accuracy_score(test_labels, lr_preds))"
   ]
  },
  {
   "cell_type": "code",
   "execution_count": 60,
   "id": "50dae35f",
   "metadata": {},
   "outputs": [
    {
     "name": "stdout",
     "output_type": "stream",
     "text": [
      "              precision    recall  f1-score   support\n",
      "\n",
      "           0       0.76      0.79      0.77      5000\n",
      "           1       0.78      0.75      0.76      5000\n",
      "\n",
      "    accuracy                           0.77     10000\n",
      "   macro avg       0.77      0.77      0.77     10000\n",
      "weighted avg       0.77      0.77      0.77     10000\n",
      "\n"
     ]
    }
   ],
   "source": [
    "print(classification_report(test_labels, lr_preds))"
   ]
  },
  {
   "cell_type": "markdown",
   "id": "b6d33ea2",
   "metadata": {},
   "source": [
    "## Conclusion\n",
    "\n",
    "**Our NLP model achieved a test data accuracy of 77%. We applied standard data preprocessing techniques and utilized the elbow method to determine the optimal number of clusters. Aggregating missing target values within each cluster improved labeling accuracy. Through cross-validation and hyperparameter tuning, our model demonstrated a 77% accuracy on the test data, indicating successful generalization.**"
   ]
  },
  {
   "cell_type": "markdown",
   "id": "b7af42c3",
   "metadata": {},
   "source": [
    "## Explanation of solution \n",
    "\n",
    "**After loading the data, we applied standard techniques for preprocessing the test data to clean and process it. Once the preprocessing was completed on the training set, we employed feature engineering techniques and utilized dimensionality reduction to truncate the features.**\n",
    "\n",
    "**Following feature engineering, we utilized the elbow method to determine the appropriate number of clusters. Upon completing the clustering process, we randomly selected 10% of the target values from y_train and employed mean aggregation to label the remaining 90% of the target values.**\n",
    "\n",
    "**In the subsequent step, we tested multiple baseline models and opted to proceed with Logistic Regression. We implemented a cross-validation strategy and conducted hyperparameter tuning for the model.**\n",
    "\n",
    "**Moving forward, we processed the test dataset and performed feature engineering on it. Using the implemented cross-validation strategy and tuned logistic regression model, we generated final predictions and achieved an accuracy of 77%.**"
   ]
  }
 ],
 "metadata": {
  "kernelspec": {
   "display_name": "Python 3 (ipykernel)",
   "language": "python",
   "name": "python3"
  },
  "language_info": {
   "codemirror_mode": {
    "name": "ipython",
    "version": 3
   },
   "file_extension": ".py",
   "mimetype": "text/x-python",
   "name": "python",
   "nbconvert_exporter": "python",
   "pygments_lexer": "ipython3",
   "version": "3.8.6"
  }
 },
 "nbformat": 4,
 "nbformat_minor": 5
}
